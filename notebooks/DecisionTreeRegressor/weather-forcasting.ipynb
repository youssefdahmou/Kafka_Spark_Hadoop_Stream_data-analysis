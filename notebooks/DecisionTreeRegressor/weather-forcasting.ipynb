{
 "cells": [
  {
   "cell_type": "code",
   "execution_count": 264,
   "id": "25bbdcc8",
   "metadata": {
    "execution": {
     "iopub.execute_input": "2023-12-25T00:39:55.418730Z",
     "iopub.status.busy": "2023-12-25T00:39:55.418330Z",
     "iopub.status.idle": "2023-12-25T00:39:55.425828Z",
     "shell.execute_reply": "2023-12-25T00:39:55.424859Z",
     "shell.execute_reply.started": "2023-12-25T00:39:55.418699Z"
    }
   },
   "outputs": [],
   "source": [
    "from pyspark.sql import SparkSession\n",
    "from pyspark.sql.functions import hour, weekofyear, month, quarter, dayofweek, dayofmonth, dayofyear\n",
    "from pyspark.sql import SparkSession\n",
    "from pyspark.ml.feature import VectorAssembler\n",
    "from pyspark.ml.regression import RandomForestRegressor\n",
    "from pyspark.ml import Pipeline\n",
    "from pyspark.ml.evaluation import RegressionEvaluator\n",
    "from pyspark.ml.regression import RandomForestRegressor\n",
    "from pyspark.ml import Pipeline\n",
    "from pyspark.ml.tuning import ParamGridBuilder\n",
    "import numpy as np\n",
    "from pyspark.ml.tuning import CrossValidator\n",
    "from pyspark.ml.evaluation import RegressionEvaluator\n",
    "from pyspark.sql.functions import col, to_timestamp\n",
    "from pyspark.sql.types import DoubleType"
   ]
  },
  {
   "cell_type": "markdown",
   "id": "8bc97ec2",
   "metadata": {},
   "source": [
    "# I ) - importation de données :\n",
    ">> ### + La première étape consiste à importer des données à partir de l'API et à les structurer correctement."
   ]
  },
  {
   "cell_type": "code",
   "execution_count": 265,
   "id": "ae6f4159",
   "metadata": {
    "execution": {
     "iopub.execute_input": "2023-12-25T00:40:10.483764Z",
     "iopub.status.busy": "2023-12-25T00:40:10.483386Z",
     "iopub.status.idle": "2023-12-25T00:40:17.610186Z",
     "shell.execute_reply": "2023-12-25T00:40:17.609228Z",
     "shell.execute_reply.started": "2023-12-25T00:40:10.483731Z"
    }
   },
   "outputs": [
    {
     "data": {
      "text/html": [
       "<div>\n",
       "<style scoped>\n",
       "    .dataframe tbody tr th:only-of-type {\n",
       "        vertical-align: middle;\n",
       "    }\n",
       "\n",
       "    .dataframe tbody tr th {\n",
       "        vertical-align: top;\n",
       "    }\n",
       "\n",
       "    .dataframe thead th {\n",
       "        text-align: right;\n",
       "    }\n",
       "</style>\n",
       "<table border=\"1\" class=\"dataframe\">\n",
       "  <thead>\n",
       "    <tr style=\"text-align: right;\">\n",
       "      <th></th>\n",
       "      <th>time</th>\n",
       "      <th>temperature_2m</th>\n",
       "      <th>relative_humidity_2m</th>\n",
       "      <th>dew_point_2m</th>\n",
       "      <th>apparent_temperature</th>\n",
       "      <th>precipitation</th>\n",
       "      <th>rain</th>\n",
       "      <th>snowfall</th>\n",
       "      <th>weather_code</th>\n",
       "      <th>pressure_msl</th>\n",
       "      <th>...</th>\n",
       "      <th>soil_temperature_0_to_7cm</th>\n",
       "      <th>soil_temperature_7_to_28cm</th>\n",
       "      <th>soil_temperature_28_to_100cm</th>\n",
       "      <th>soil_temperature_100_to_255cm</th>\n",
       "      <th>soil_moisture_0_to_7cm</th>\n",
       "      <th>soil_moisture_7_to_28cm</th>\n",
       "      <th>soil_moisture_28_to_100cm</th>\n",
       "      <th>soil_moisture_100_to_255cm</th>\n",
       "      <th>is_day</th>\n",
       "      <th>sunshine_duration</th>\n",
       "    </tr>\n",
       "  </thead>\n",
       "  <tbody>\n",
       "    <tr>\n",
       "      <th>0</th>\n",
       "      <td>2018-01-01 00:00:00</td>\n",
       "      <td>16.4</td>\n",
       "      <td>54</td>\n",
       "      <td>7.2</td>\n",
       "      <td>14.1</td>\n",
       "      <td>0.0</td>\n",
       "      <td>0.0</td>\n",
       "      <td>0.0</td>\n",
       "      <td>0</td>\n",
       "      <td>1027.4</td>\n",
       "      <td>...</td>\n",
       "      <td>16.7</td>\n",
       "      <td>20.2</td>\n",
       "      <td>19.4</td>\n",
       "      <td>23.5</td>\n",
       "      <td>0.011</td>\n",
       "      <td>0.156</td>\n",
       "      <td>0.212</td>\n",
       "      <td>0.213</td>\n",
       "      <td>0</td>\n",
       "      <td>0.0</td>\n",
       "    </tr>\n",
       "    <tr>\n",
       "      <th>1</th>\n",
       "      <td>2018-01-01 01:00:00</td>\n",
       "      <td>15.4</td>\n",
       "      <td>55</td>\n",
       "      <td>6.3</td>\n",
       "      <td>13.4</td>\n",
       "      <td>0.0</td>\n",
       "      <td>0.0</td>\n",
       "      <td>0.0</td>\n",
       "      <td>0</td>\n",
       "      <td>1027.2</td>\n",
       "      <td>...</td>\n",
       "      <td>16.1</td>\n",
       "      <td>20.0</td>\n",
       "      <td>19.5</td>\n",
       "      <td>23.5</td>\n",
       "      <td>0.011</td>\n",
       "      <td>0.156</td>\n",
       "      <td>0.212</td>\n",
       "      <td>0.213</td>\n",
       "      <td>0</td>\n",
       "      <td>0.0</td>\n",
       "    </tr>\n",
       "    <tr>\n",
       "      <th>2</th>\n",
       "      <td>2018-01-01 02:00:00</td>\n",
       "      <td>14.8</td>\n",
       "      <td>47</td>\n",
       "      <td>3.6</td>\n",
       "      <td>12.0</td>\n",
       "      <td>0.0</td>\n",
       "      <td>0.0</td>\n",
       "      <td>0.0</td>\n",
       "      <td>0</td>\n",
       "      <td>1026.6</td>\n",
       "      <td>...</td>\n",
       "      <td>15.3</td>\n",
       "      <td>19.8</td>\n",
       "      <td>19.5</td>\n",
       "      <td>23.5</td>\n",
       "      <td>0.012</td>\n",
       "      <td>0.156</td>\n",
       "      <td>0.212</td>\n",
       "      <td>0.213</td>\n",
       "      <td>0</td>\n",
       "      <td>0.0</td>\n",
       "    </tr>\n",
       "    <tr>\n",
       "      <th>3</th>\n",
       "      <td>2018-01-01 03:00:00</td>\n",
       "      <td>14.5</td>\n",
       "      <td>43</td>\n",
       "      <td>1.9</td>\n",
       "      <td>11.5</td>\n",
       "      <td>0.0</td>\n",
       "      <td>0.0</td>\n",
       "      <td>0.0</td>\n",
       "      <td>0</td>\n",
       "      <td>1026.2</td>\n",
       "      <td>...</td>\n",
       "      <td>14.7</td>\n",
       "      <td>19.6</td>\n",
       "      <td>19.5</td>\n",
       "      <td>23.5</td>\n",
       "      <td>0.012</td>\n",
       "      <td>0.156</td>\n",
       "      <td>0.212</td>\n",
       "      <td>0.213</td>\n",
       "      <td>0</td>\n",
       "      <td>0.0</td>\n",
       "    </tr>\n",
       "    <tr>\n",
       "      <th>4</th>\n",
       "      <td>2018-01-01 04:00:00</td>\n",
       "      <td>13.7</td>\n",
       "      <td>42</td>\n",
       "      <td>0.9</td>\n",
       "      <td>10.4</td>\n",
       "      <td>0.0</td>\n",
       "      <td>0.0</td>\n",
       "      <td>0.0</td>\n",
       "      <td>0</td>\n",
       "      <td>1026.0</td>\n",
       "      <td>...</td>\n",
       "      <td>14.2</td>\n",
       "      <td>19.4</td>\n",
       "      <td>19.5</td>\n",
       "      <td>23.5</td>\n",
       "      <td>0.012</td>\n",
       "      <td>0.156</td>\n",
       "      <td>0.212</td>\n",
       "      <td>0.213</td>\n",
       "      <td>0</td>\n",
       "      <td>0.0</td>\n",
       "    </tr>\n",
       "    <tr>\n",
       "      <th>...</th>\n",
       "      <td>...</td>\n",
       "      <td>...</td>\n",
       "      <td>...</td>\n",
       "      <td>...</td>\n",
       "      <td>...</td>\n",
       "      <td>...</td>\n",
       "      <td>...</td>\n",
       "      <td>...</td>\n",
       "      <td>...</td>\n",
       "      <td>...</td>\n",
       "      <td>...</td>\n",
       "      <td>...</td>\n",
       "      <td>...</td>\n",
       "      <td>...</td>\n",
       "      <td>...</td>\n",
       "      <td>...</td>\n",
       "      <td>...</td>\n",
       "      <td>...</td>\n",
       "      <td>...</td>\n",
       "      <td>...</td>\n",
       "      <td>...</td>\n",
       "    </tr>\n",
       "    <tr>\n",
       "      <th>52315</th>\n",
       "      <td>2023-12-20 19:00:00</td>\n",
       "      <td>16.0</td>\n",
       "      <td>64</td>\n",
       "      <td>9.2</td>\n",
       "      <td>15.3</td>\n",
       "      <td>0.0</td>\n",
       "      <td>0.0</td>\n",
       "      <td>0.0</td>\n",
       "      <td>0</td>\n",
       "      <td>1026.1</td>\n",
       "      <td>...</td>\n",
       "      <td>18.4</td>\n",
       "      <td>18.9</td>\n",
       "      <td>21.3</td>\n",
       "      <td>24.9</td>\n",
       "      <td>0.028</td>\n",
       "      <td>0.162</td>\n",
       "      <td>0.186</td>\n",
       "      <td>0.204</td>\n",
       "      <td>0</td>\n",
       "      <td>0.0</td>\n",
       "    </tr>\n",
       "    <tr>\n",
       "      <th>52316</th>\n",
       "      <td>2023-12-20 20:00:00</td>\n",
       "      <td>13.6</td>\n",
       "      <td>77</td>\n",
       "      <td>9.6</td>\n",
       "      <td>12.7</td>\n",
       "      <td>0.0</td>\n",
       "      <td>0.0</td>\n",
       "      <td>0.0</td>\n",
       "      <td>0</td>\n",
       "      <td>1026.5</td>\n",
       "      <td>...</td>\n",
       "      <td>16.8</td>\n",
       "      <td>18.9</td>\n",
       "      <td>21.3</td>\n",
       "      <td>24.9</td>\n",
       "      <td>0.028</td>\n",
       "      <td>0.162</td>\n",
       "      <td>0.186</td>\n",
       "      <td>0.204</td>\n",
       "      <td>0</td>\n",
       "      <td>0.0</td>\n",
       "    </tr>\n",
       "    <tr>\n",
       "      <th>52317</th>\n",
       "      <td>2023-12-20 21:00:00</td>\n",
       "      <td>13.3</td>\n",
       "      <td>72</td>\n",
       "      <td>8.4</td>\n",
       "      <td>12.0</td>\n",
       "      <td>0.0</td>\n",
       "      <td>0.0</td>\n",
       "      <td>0.0</td>\n",
       "      <td>0</td>\n",
       "      <td>1026.7</td>\n",
       "      <td>...</td>\n",
       "      <td>15.5</td>\n",
       "      <td>18.8</td>\n",
       "      <td>21.3</td>\n",
       "      <td>24.9</td>\n",
       "      <td>0.028</td>\n",
       "      <td>0.162</td>\n",
       "      <td>0.186</td>\n",
       "      <td>0.204</td>\n",
       "      <td>0</td>\n",
       "      <td>0.0</td>\n",
       "    </tr>\n",
       "    <tr>\n",
       "      <th>52318</th>\n",
       "      <td>2023-12-20 22:00:00</td>\n",
       "      <td>12.7</td>\n",
       "      <td>69</td>\n",
       "      <td>7.2</td>\n",
       "      <td>11.2</td>\n",
       "      <td>0.0</td>\n",
       "      <td>0.0</td>\n",
       "      <td>0.0</td>\n",
       "      <td>0</td>\n",
       "      <td>1026.7</td>\n",
       "      <td>...</td>\n",
       "      <td>14.5</td>\n",
       "      <td>18.7</td>\n",
       "      <td>21.3</td>\n",
       "      <td>24.9</td>\n",
       "      <td>0.028</td>\n",
       "      <td>0.162</td>\n",
       "      <td>0.186</td>\n",
       "      <td>0.204</td>\n",
       "      <td>0</td>\n",
       "      <td>0.0</td>\n",
       "    </tr>\n",
       "    <tr>\n",
       "      <th>52319</th>\n",
       "      <td>2023-12-20 23:00:00</td>\n",
       "      <td>11.9</td>\n",
       "      <td>71</td>\n",
       "      <td>6.8</td>\n",
       "      <td>10.1</td>\n",
       "      <td>0.0</td>\n",
       "      <td>0.0</td>\n",
       "      <td>0.0</td>\n",
       "      <td>0</td>\n",
       "      <td>1026.4</td>\n",
       "      <td>...</td>\n",
       "      <td>13.6</td>\n",
       "      <td>18.6</td>\n",
       "      <td>21.3</td>\n",
       "      <td>24.9</td>\n",
       "      <td>0.028</td>\n",
       "      <td>0.162</td>\n",
       "      <td>0.186</td>\n",
       "      <td>0.204</td>\n",
       "      <td>0</td>\n",
       "      <td>0.0</td>\n",
       "    </tr>\n",
       "  </tbody>\n",
       "</table>\n",
       "<p>52320 rows × 32 columns</p>\n",
       "</div>"
      ],
      "text/plain": [
       "                     time  temperature_2m  relative_humidity_2m  dew_point_2m  \\\n",
       "0     2018-01-01 00:00:00            16.4                    54           7.2   \n",
       "1     2018-01-01 01:00:00            15.4                    55           6.3   \n",
       "2     2018-01-01 02:00:00            14.8                    47           3.6   \n",
       "3     2018-01-01 03:00:00            14.5                    43           1.9   \n",
       "4     2018-01-01 04:00:00            13.7                    42           0.9   \n",
       "...                   ...             ...                   ...           ...   \n",
       "52315 2023-12-20 19:00:00            16.0                    64           9.2   \n",
       "52316 2023-12-20 20:00:00            13.6                    77           9.6   \n",
       "52317 2023-12-20 21:00:00            13.3                    72           8.4   \n",
       "52318 2023-12-20 22:00:00            12.7                    69           7.2   \n",
       "52319 2023-12-20 23:00:00            11.9                    71           6.8   \n",
       "\n",
       "       apparent_temperature  precipitation  rain  snowfall  weather_code  \\\n",
       "0                      14.1            0.0   0.0       0.0             0   \n",
       "1                      13.4            0.0   0.0       0.0             0   \n",
       "2                      12.0            0.0   0.0       0.0             0   \n",
       "3                      11.5            0.0   0.0       0.0             0   \n",
       "4                      10.4            0.0   0.0       0.0             0   \n",
       "...                     ...            ...   ...       ...           ...   \n",
       "52315                  15.3            0.0   0.0       0.0             0   \n",
       "52316                  12.7            0.0   0.0       0.0             0   \n",
       "52317                  12.0            0.0   0.0       0.0             0   \n",
       "52318                  11.2            0.0   0.0       0.0             0   \n",
       "52319                  10.1            0.0   0.0       0.0             0   \n",
       "\n",
       "       pressure_msl  ...  soil_temperature_0_to_7cm  \\\n",
       "0            1027.4  ...                       16.7   \n",
       "1            1027.2  ...                       16.1   \n",
       "2            1026.6  ...                       15.3   \n",
       "3            1026.2  ...                       14.7   \n",
       "4            1026.0  ...                       14.2   \n",
       "...             ...  ...                        ...   \n",
       "52315        1026.1  ...                       18.4   \n",
       "52316        1026.5  ...                       16.8   \n",
       "52317        1026.7  ...                       15.5   \n",
       "52318        1026.7  ...                       14.5   \n",
       "52319        1026.4  ...                       13.6   \n",
       "\n",
       "       soil_temperature_7_to_28cm  soil_temperature_28_to_100cm  \\\n",
       "0                            20.2                          19.4   \n",
       "1                            20.0                          19.5   \n",
       "2                            19.8                          19.5   \n",
       "3                            19.6                          19.5   \n",
       "4                            19.4                          19.5   \n",
       "...                           ...                           ...   \n",
       "52315                        18.9                          21.3   \n",
       "52316                        18.9                          21.3   \n",
       "52317                        18.8                          21.3   \n",
       "52318                        18.7                          21.3   \n",
       "52319                        18.6                          21.3   \n",
       "\n",
       "       soil_temperature_100_to_255cm  soil_moisture_0_to_7cm  \\\n",
       "0                               23.5                   0.011   \n",
       "1                               23.5                   0.011   \n",
       "2                               23.5                   0.012   \n",
       "3                               23.5                   0.012   \n",
       "4                               23.5                   0.012   \n",
       "...                              ...                     ...   \n",
       "52315                           24.9                   0.028   \n",
       "52316                           24.9                   0.028   \n",
       "52317                           24.9                   0.028   \n",
       "52318                           24.9                   0.028   \n",
       "52319                           24.9                   0.028   \n",
       "\n",
       "       soil_moisture_7_to_28cm  soil_moisture_28_to_100cm  \\\n",
       "0                        0.156                      0.212   \n",
       "1                        0.156                      0.212   \n",
       "2                        0.156                      0.212   \n",
       "3                        0.156                      0.212   \n",
       "4                        0.156                      0.212   \n",
       "...                        ...                        ...   \n",
       "52315                    0.162                      0.186   \n",
       "52316                    0.162                      0.186   \n",
       "52317                    0.162                      0.186   \n",
       "52318                    0.162                      0.186   \n",
       "52319                    0.162                      0.186   \n",
       "\n",
       "       soil_moisture_100_to_255cm  is_day  sunshine_duration  \n",
       "0                           0.213       0                0.0  \n",
       "1                           0.213       0                0.0  \n",
       "2                           0.213       0                0.0  \n",
       "3                           0.213       0                0.0  \n",
       "4                           0.213       0                0.0  \n",
       "...                           ...     ...                ...  \n",
       "52315                       0.204       0                0.0  \n",
       "52316                       0.204       0                0.0  \n",
       "52317                       0.204       0                0.0  \n",
       "52318                       0.204       0                0.0  \n",
       "52319                       0.204       0                0.0  \n",
       "\n",
       "[52320 rows x 32 columns]"
      ]
     },
     "execution_count": 265,
     "metadata": {},
     "output_type": "execute_result"
    }
   ],
   "source": [
    "import pandas as  pd\n",
    "import requests\n",
    "from pyspark.sql import SparkSession\n",
    "from pyspark.sql import functions as F\n",
    "\n",
    "# this code scrapes the weather APIs\n",
    "url = \"\"\"https://archive-api.open-meteo.com/v1/archive?latitude=30.4202&longitude=-9.5982&start_date=2018-01-01&\n",
    "            end_date=2023-12-20&hourly=temperature_2m,relative_humidity_2m,dew_point_2m,apparent_temperature,\n",
    "            precipitation,rain,snowfall,weather_code,pressure_msl,surface_pressure,cloud_cover,cloud_cover_low,\n",
    "            cloud_cover_mid,cloud_cover_high,et0_fao_evapotranspiration,vapour_pressure_deficit,wind_speed_10m,\n",
    "            wind_speed_100m,wind_direction_10m,wind_direction_100m,wind_gusts_10m,soil_temperature_0_to_7cm,\n",
    "            soil_temperature_7_to_28cm,soil_temperature_28_to_100cm,soil_temperature_100_to_255cm,soil_moisture_0_to_7cm,\n",
    "            soil_moisture_7_to_28cm,soil_moisture_28_to_100cm,soil_moisture_100_to_255cm,is_day,\n",
    "            sunshine_duration&daily=weather_code,temperature_2m_max,temperature_2m_min,temperature_2m_mean,\n",
    "            apparent_temperature_max,apparent_temperature_min,apparent_temperature_mean,sunrise,sunset,\n",
    "            daylight_duration,sunshine_duration,precipitation_sum,rain_sum,snowfall_sum,precipitation_hours,\n",
    "            wind_speed_10m_max,wind_gusts_10m_max,wind_direction_10m_dominant,shortwave_radiation_sum,\n",
    "            et0_fao_evapotranspiration\"\"\"\n",
    "response = requests.get(url)\n",
    "data_json = response.json()\n",
    "\n",
    "# this code structures the retrieved data in a form of DataFrame.\n",
    "df_json = {}\n",
    "for  item in list(data_json['hourly_units'].keys()) :\n",
    "    df_json[item] = data_json['hourly'][item]\n",
    "df_pandas = pd.DataFrame(df_json)  \n",
    "df_pandas['time'] = pd.to_datetime(df_pandas['time'])\n",
    "df_pandas    "
   ]
  },
  {
   "cell_type": "markdown",
   "id": "470c11de",
   "metadata": {},
   "source": [
    ">> ### - Ensuite, nous devons convertir les données extraites en un DataFrame Spark, afin de pouvoir les traiter librement et entraîner les modèles d'apprentissage automatique."
   ]
  },
  {
   "cell_type": "code",
   "execution_count": 266,
   "id": "d0c8ef24",
   "metadata": {
    "execution": {
     "iopub.execute_input": "2023-12-25T00:40:23.083539Z",
     "iopub.status.busy": "2023-12-25T00:40:23.082784Z",
     "iopub.status.idle": "2023-12-25T00:40:39.190670Z",
     "shell.execute_reply": "2023-12-25T00:40:39.189845Z",
     "shell.execute_reply.started": "2023-12-25T00:40:23.083506Z"
    }
   },
   "outputs": [],
   "source": [
    "# Create a Spark session\n",
    "spark = SparkSession.builder.appName(\"example\").config(\"spark.executor.memory\", \"4g\").config(\"spark.driver.memory\", \"7g\").getOrCreate()\n",
    "df = spark.createDataFrame(df_pandas)"
   ]
  },
  {
   "cell_type": "markdown",
   "id": "f9e37e75",
   "metadata": {},
   "source": [
    "# II) - exploration de données"
   ]
  },
  {
   "cell_type": "markdown",
   "id": "e402587c",
   "metadata": {},
   "source": [
    "> ## 1) - Exploreration des valeurs manquantes"
   ]
  },
  {
   "cell_type": "code",
   "execution_count": 267,
   "id": "dc084dcb",
   "metadata": {
    "execution": {
     "iopub.execute_input": "2023-12-25T00:40:55.017209Z",
     "iopub.status.busy": "2023-12-25T00:40:55.016853Z",
     "iopub.status.idle": "2023-12-25T00:41:06.603481Z",
     "shell.execute_reply": "2023-12-25T00:41:06.602346Z",
     "shell.execute_reply.started": "2023-12-25T00:40:55.017184Z"
    }
   },
   "outputs": [
    {
     "name": "stderr",
     "output_type": "stream",
     "text": [
      "23/12/25 00:40:55 WARN TaskSetManager: Stage 3313 contains a task of very large size (2979 KiB). The maximum recommended task size is 1000 KiB.\n"
     ]
    },
    {
     "name": "stdout",
     "output_type": "stream",
     "text": [
      "Null values in column 'time': 0\n"
     ]
    },
    {
     "name": "stderr",
     "output_type": "stream",
     "text": [
      "23/12/25 00:40:55 WARN TaskSetManager: Stage 3316 contains a task of very large size (2979 KiB). The maximum recommended task size is 1000 KiB.\n"
     ]
    },
    {
     "name": "stdout",
     "output_type": "stream",
     "text": [
      "Null values in column 'temperature_2m': 0\n"
     ]
    },
    {
     "name": "stderr",
     "output_type": "stream",
     "text": [
      "23/12/25 00:40:55 WARN TaskSetManager: Stage 3319 contains a task of very large size (2979 KiB). The maximum recommended task size is 1000 KiB.\n"
     ]
    },
    {
     "name": "stdout",
     "output_type": "stream",
     "text": [
      "Null values in column 'relative_humidity_2m': 0\n"
     ]
    },
    {
     "name": "stderr",
     "output_type": "stream",
     "text": [
      "23/12/25 00:40:56 WARN TaskSetManager: Stage 3322 contains a task of very large size (2979 KiB). The maximum recommended task size is 1000 KiB.\n"
     ]
    },
    {
     "name": "stdout",
     "output_type": "stream",
     "text": [
      "Null values in column 'dew_point_2m': 0\n"
     ]
    },
    {
     "name": "stderr",
     "output_type": "stream",
     "text": [
      "23/12/25 00:40:56 WARN TaskSetManager: Stage 3325 contains a task of very large size (2979 KiB). The maximum recommended task size is 1000 KiB.\n"
     ]
    },
    {
     "name": "stdout",
     "output_type": "stream",
     "text": [
      "Null values in column 'apparent_temperature': 0\n"
     ]
    },
    {
     "name": "stderr",
     "output_type": "stream",
     "text": [
      "23/12/25 00:40:56 WARN TaskSetManager: Stage 3328 contains a task of very large size (2979 KiB). The maximum recommended task size is 1000 KiB.\n"
     ]
    },
    {
     "name": "stdout",
     "output_type": "stream",
     "text": [
      "Null values in column 'precipitation': 0\n"
     ]
    },
    {
     "name": "stderr",
     "output_type": "stream",
     "text": [
      "23/12/25 00:40:57 WARN TaskSetManager: Stage 3331 contains a task of very large size (2979 KiB). The maximum recommended task size is 1000 KiB.\n"
     ]
    },
    {
     "name": "stdout",
     "output_type": "stream",
     "text": [
      "Null values in column 'rain': 0\n"
     ]
    },
    {
     "name": "stderr",
     "output_type": "stream",
     "text": [
      "23/12/25 00:40:57 WARN TaskSetManager: Stage 3334 contains a task of very large size (2979 KiB). The maximum recommended task size is 1000 KiB.\n"
     ]
    },
    {
     "name": "stdout",
     "output_type": "stream",
     "text": [
      "Null values in column 'snowfall': 0\n"
     ]
    },
    {
     "name": "stderr",
     "output_type": "stream",
     "text": [
      "23/12/25 00:40:57 WARN TaskSetManager: Stage 3337 contains a task of very large size (2979 KiB). The maximum recommended task size is 1000 KiB.\n"
     ]
    },
    {
     "name": "stdout",
     "output_type": "stream",
     "text": [
      "Null values in column 'weather_code': 0\n"
     ]
    },
    {
     "name": "stderr",
     "output_type": "stream",
     "text": [
      "23/12/25 00:40:58 WARN TaskSetManager: Stage 3340 contains a task of very large size (2979 KiB). The maximum recommended task size is 1000 KiB.\n"
     ]
    },
    {
     "name": "stdout",
     "output_type": "stream",
     "text": [
      "Null values in column 'pressure_msl': 0\n"
     ]
    },
    {
     "name": "stderr",
     "output_type": "stream",
     "text": [
      "23/12/25 00:40:58 WARN TaskSetManager: Stage 3343 contains a task of very large size (2979 KiB). The maximum recommended task size is 1000 KiB.\n"
     ]
    },
    {
     "name": "stdout",
     "output_type": "stream",
     "text": [
      "Null values in column 'surface_pressure': 0\n"
     ]
    },
    {
     "name": "stderr",
     "output_type": "stream",
     "text": [
      "23/12/25 00:40:58 WARN TaskSetManager: Stage 3346 contains a task of very large size (2979 KiB). The maximum recommended task size is 1000 KiB.\n"
     ]
    },
    {
     "name": "stdout",
     "output_type": "stream",
     "text": [
      "Null values in column 'cloud_cover': 0\n"
     ]
    },
    {
     "name": "stderr",
     "output_type": "stream",
     "text": [
      "23/12/25 00:40:59 WARN TaskSetManager: Stage 3349 contains a task of very large size (2979 KiB). The maximum recommended task size is 1000 KiB.\n"
     ]
    },
    {
     "name": "stdout",
     "output_type": "stream",
     "text": [
      "Null values in column 'cloud_cover_low': 0\n"
     ]
    },
    {
     "name": "stderr",
     "output_type": "stream",
     "text": [
      "23/12/25 00:40:59 WARN TaskSetManager: Stage 3352 contains a task of very large size (2979 KiB). The maximum recommended task size is 1000 KiB.\n"
     ]
    },
    {
     "name": "stdout",
     "output_type": "stream",
     "text": [
      "Null values in column 'cloud_cover_mid': 0\n"
     ]
    },
    {
     "name": "stderr",
     "output_type": "stream",
     "text": [
      "23/12/25 00:40:59 WARN TaskSetManager: Stage 3355 contains a task of very large size (2979 KiB). The maximum recommended task size is 1000 KiB.\n"
     ]
    },
    {
     "name": "stdout",
     "output_type": "stream",
     "text": [
      "Null values in column 'cloud_cover_high': 0\n"
     ]
    },
    {
     "name": "stderr",
     "output_type": "stream",
     "text": [
      "23/12/25 00:41:00 WARN TaskSetManager: Stage 3358 contains a task of very large size (2979 KiB). The maximum recommended task size is 1000 KiB.\n"
     ]
    },
    {
     "name": "stdout",
     "output_type": "stream",
     "text": [
      "Null values in column 'et0_fao_evapotranspiration': 0\n"
     ]
    },
    {
     "name": "stderr",
     "output_type": "stream",
     "text": [
      "23/12/25 00:41:00 WARN TaskSetManager: Stage 3361 contains a task of very large size (2979 KiB). The maximum recommended task size is 1000 KiB.\n"
     ]
    },
    {
     "name": "stdout",
     "output_type": "stream",
     "text": [
      "Null values in column 'vapour_pressure_deficit': 0\n"
     ]
    },
    {
     "name": "stderr",
     "output_type": "stream",
     "text": [
      "23/12/25 00:41:01 WARN TaskSetManager: Stage 3364 contains a task of very large size (2979 KiB). The maximum recommended task size is 1000 KiB.\n"
     ]
    },
    {
     "name": "stdout",
     "output_type": "stream",
     "text": [
      "Null values in column 'wind_speed_10m': 0\n"
     ]
    },
    {
     "name": "stderr",
     "output_type": "stream",
     "text": [
      "23/12/25 00:41:01 WARN TaskSetManager: Stage 3367 contains a task of very large size (2979 KiB). The maximum recommended task size is 1000 KiB.\n"
     ]
    },
    {
     "name": "stdout",
     "output_type": "stream",
     "text": [
      "Null values in column 'wind_speed_100m': 0\n"
     ]
    },
    {
     "name": "stderr",
     "output_type": "stream",
     "text": [
      "23/12/25 00:41:01 WARN TaskSetManager: Stage 3370 contains a task of very large size (2979 KiB). The maximum recommended task size is 1000 KiB.\n"
     ]
    },
    {
     "name": "stdout",
     "output_type": "stream",
     "text": [
      "Null values in column 'wind_direction_10m': 0\n"
     ]
    },
    {
     "name": "stderr",
     "output_type": "stream",
     "text": [
      "23/12/25 00:41:02 WARN TaskSetManager: Stage 3373 contains a task of very large size (2979 KiB). The maximum recommended task size is 1000 KiB.\n"
     ]
    },
    {
     "name": "stdout",
     "output_type": "stream",
     "text": [
      "Null values in column 'wind_direction_100m': 0\n"
     ]
    },
    {
     "name": "stderr",
     "output_type": "stream",
     "text": [
      "23/12/25 00:41:02 WARN TaskSetManager: Stage 3376 contains a task of very large size (2979 KiB). The maximum recommended task size is 1000 KiB.\n"
     ]
    },
    {
     "name": "stdout",
     "output_type": "stream",
     "text": [
      "Null values in column 'wind_gusts_10m': 0\n"
     ]
    },
    {
     "name": "stderr",
     "output_type": "stream",
     "text": [
      "23/12/25 00:41:02 WARN TaskSetManager: Stage 3379 contains a task of very large size (2979 KiB). The maximum recommended task size is 1000 KiB.\n"
     ]
    },
    {
     "name": "stdout",
     "output_type": "stream",
     "text": [
      "Null values in column 'soil_temperature_0_to_7cm': 0\n"
     ]
    },
    {
     "name": "stderr",
     "output_type": "stream",
     "text": [
      "23/12/25 00:41:03 WARN TaskSetManager: Stage 3382 contains a task of very large size (2979 KiB). The maximum recommended task size is 1000 KiB.\n"
     ]
    },
    {
     "name": "stdout",
     "output_type": "stream",
     "text": [
      "Null values in column 'soil_temperature_7_to_28cm': 0\n"
     ]
    },
    {
     "name": "stderr",
     "output_type": "stream",
     "text": [
      "23/12/25 00:41:03 WARN TaskSetManager: Stage 3385 contains a task of very large size (2979 KiB). The maximum recommended task size is 1000 KiB.\n"
     ]
    },
    {
     "name": "stdout",
     "output_type": "stream",
     "text": [
      "Null values in column 'soil_temperature_28_to_100cm': 0\n"
     ]
    },
    {
     "name": "stderr",
     "output_type": "stream",
     "text": [
      "23/12/25 00:41:04 WARN TaskSetManager: Stage 3388 contains a task of very large size (2979 KiB). The maximum recommended task size is 1000 KiB.\n"
     ]
    },
    {
     "name": "stdout",
     "output_type": "stream",
     "text": [
      "Null values in column 'soil_temperature_100_to_255cm': 0\n"
     ]
    },
    {
     "name": "stderr",
     "output_type": "stream",
     "text": [
      "23/12/25 00:41:04 WARN TaskSetManager: Stage 3391 contains a task of very large size (2979 KiB). The maximum recommended task size is 1000 KiB.\n"
     ]
    },
    {
     "name": "stdout",
     "output_type": "stream",
     "text": [
      "Null values in column 'soil_moisture_0_to_7cm': 0\n"
     ]
    },
    {
     "name": "stderr",
     "output_type": "stream",
     "text": [
      "23/12/25 00:41:05 WARN TaskSetManager: Stage 3394 contains a task of very large size (2979 KiB). The maximum recommended task size is 1000 KiB.\n"
     ]
    },
    {
     "name": "stdout",
     "output_type": "stream",
     "text": [
      "Null values in column 'soil_moisture_7_to_28cm': 0\n"
     ]
    },
    {
     "name": "stderr",
     "output_type": "stream",
     "text": [
      "23/12/25 00:41:05 WARN TaskSetManager: Stage 3397 contains a task of very large size (2979 KiB). The maximum recommended task size is 1000 KiB.\n"
     ]
    },
    {
     "name": "stdout",
     "output_type": "stream",
     "text": [
      "Null values in column 'soil_moisture_28_to_100cm': 0\n"
     ]
    },
    {
     "name": "stderr",
     "output_type": "stream",
     "text": [
      "23/12/25 00:41:05 WARN TaskSetManager: Stage 3400 contains a task of very large size (2979 KiB). The maximum recommended task size is 1000 KiB.\n"
     ]
    },
    {
     "name": "stdout",
     "output_type": "stream",
     "text": [
      "Null values in column 'soil_moisture_100_to_255cm': 0\n"
     ]
    },
    {
     "name": "stderr",
     "output_type": "stream",
     "text": [
      "23/12/25 00:41:06 WARN TaskSetManager: Stage 3403 contains a task of very large size (2979 KiB). The maximum recommended task size is 1000 KiB.\n"
     ]
    },
    {
     "name": "stdout",
     "output_type": "stream",
     "text": [
      "Null values in column 'is_day': 0\n"
     ]
    },
    {
     "name": "stderr",
     "output_type": "stream",
     "text": [
      "23/12/25 00:41:06 WARN TaskSetManager: Stage 3406 contains a task of very large size (2979 KiB). The maximum recommended task size is 1000 KiB.\n"
     ]
    },
    {
     "name": "stdout",
     "output_type": "stream",
     "text": [
      "Null values in column 'sunshine_duration': 0\n"
     ]
    }
   ],
   "source": [
    "# Check for null values in each column\n",
    "for column in df.columns:\n",
    "    null_count = df.where(col(column).isNull()).count()\n",
    "    print(f\"Null values in column '{column}': {null_count}\")"
   ]
  },
  {
   "cell_type": "markdown",
   "id": "aeef9e92",
   "metadata": {
    "execution": {
     "iopub.execute_input": "2023-12-25T00:18:37.018815Z",
     "iopub.status.busy": "2023-12-25T00:18:37.018383Z",
     "iopub.status.idle": "2023-12-25T00:18:37.024559Z",
     "shell.execute_reply": "2023-12-25T00:18:37.023450Z",
     "shell.execute_reply.started": "2023-12-25T00:18:37.018770Z"
    }
   },
   "source": [
    "> ## 2) - visualisation de l'évolution des températures sur les 4 dernières années"
   ]
  },
  {
   "cell_type": "code",
   "execution_count": 269,
   "id": "4ddd98b5",
   "metadata": {
    "execution": {
     "iopub.execute_input": "2023-12-25T00:41:08.666097Z",
     "iopub.status.busy": "2023-12-25T00:41:08.665821Z",
     "iopub.status.idle": "2023-12-25T00:41:10.618625Z",
     "shell.execute_reply": "2023-12-25T00:41:10.617567Z",
     "shell.execute_reply.started": "2023-12-25T00:41:08.666072Z"
    }
   },
   "outputs": [
    {
     "name": "stderr",
     "output_type": "stream",
     "text": [
      "23/12/25 00:41:08 WARN TaskSetManager: Stage 3411 contains a task of very large size (2979 KiB). The maximum recommended task size is 1000 KiB.\n",
      "23/12/25 00:41:09 WARN TaskSetManager: Stage 3412 contains a task of very large size (2979 KiB). The maximum recommended task size is 1000 KiB.\n"
     ]
    },
    {
     "data": {
      "image/png": "[encoded data removed]",
      "text/plain": [
       "<Figure size 1200x400 with 1 Axes>"
      ]
     },
     "metadata": {},
     "output_type": "display_data"
    }
   ],
   "source": [
    "plt.figure(figsize=(12, 4))\n",
    "plt.plot(df.select('time').rdd.flatMap(lambda x: x).collect(), df.select('temperature_2m').rdd.flatMap(lambda x: x)\n",
    "                                                                 .collect(), color='red', \n",
    "                                                                  label='Training Data')\n",
    "plt.xlabel('Time')\n",
    "plt.ylabel('Temperature_2m')\n",
    "plt.title('Evolution of Temperature_2m Over Time')\n",
    "plt.legend()\n",
    "plt.show()"
   ]
  },
  {
   "cell_type": "markdown",
   "id": "75837645",
   "metadata": {},
   "source": [
    "> ## 2) - visualisation de l'évolution des températures pour l'année en cours"
   ]
  },
  {
   "cell_type": "code",
   "execution_count": 270,
   "id": "193ce2cd",
   "metadata": {
    "execution": {
     "iopub.execute_input": "2023-12-25T00:41:10.620838Z",
     "iopub.status.busy": "2023-12-25T00:41:10.620494Z",
     "iopub.status.idle": "2023-12-25T00:41:13.189452Z",
     "shell.execute_reply": "2023-12-25T00:41:13.188519Z",
     "shell.execute_reply.started": "2023-12-25T00:41:10.620783Z"
    }
   },
   "outputs": [
    {
     "name": "stderr",
     "output_type": "stream",
     "text": [
      "23/12/25 00:41:10 WARN TaskSetManager: Stage 3413 contains a task of very large size (2979 KiB). The maximum recommended task size is 1000 KiB.\n",
      "23/12/25 00:41:10 WARN TaskSetManager: Stage 3414 contains a task of very large size (2979 KiB). The maximum recommended task size is 1000 KiB.\n",
      "23/12/25 00:41:12 WARN TaskSetManager: Stage 3417 contains a task of very large size (2979 KiB). The maximum recommended task size is 1000 KiB.\n",
      "23/12/25 00:41:12 WARN TaskSetManager: Stage 3418 contains a task of very large size (2979 KiB). The maximum recommended task size is 1000 KiB.\n"
     ]
    },
    {
     "data": {
      "image/png": "[encoded data removed]",
      "text/plain": [
       "<Figure size 1200x400 with 1 Axes>"
      ]
     },
     "metadata": {},
     "output_type": "display_data"
    }
   ],
   "source": [
    "df = df.orderBy('time')\n",
    "plt.figure(figsize=(12, 4))\n",
    "plt.plot(df.select('time').rdd.flatMap(lambda x: x).collect()[-9000:], df.select('temperature_2m').rdd.flatMap(lambda x: x).collect()[-9000:], color='red', label='Training Data')\n",
    "plt.xlabel('Time')\n",
    "plt.ylabel('Temperature_2m')\n",
    "plt.title('Evolution of Temperature_2m Over Time')\n",
    "plt.legend()\n",
    "plt.show()"
   ]
  },
  {
   "cell_type": "markdown",
   "id": "570b1fcd",
   "metadata": {},
   "source": [
    "# III) - feature Engineering : indexation chronologique\n",
    "> ## 1) - maintenant, nous allons supprimer toutes les colonnes sauf « temps » et « température ».\n",
    ">> - variable explicable : température.\n",
    ">> - variable explicative : temps"
   ]
  },
  {
   "cell_type": "code",
   "execution_count": 271,
   "id": "8c7c0fbd",
   "metadata": {
    "execution": {
     "iopub.execute_input": "2023-12-25T00:41:16.043037Z",
     "iopub.status.busy": "2023-12-25T00:41:16.042647Z",
     "iopub.status.idle": "2023-12-25T00:41:16.333578Z",
     "shell.execute_reply": "2023-12-25T00:41:16.332486Z",
     "shell.execute_reply.started": "2023-12-25T00:41:16.043006Z"
    }
   },
   "outputs": [
    {
     "name": "stderr",
     "output_type": "stream",
     "text": [
      "23/12/25 00:41:16 WARN TaskSetManager: Stage 3421 contains a task of very large size (2979 KiB). The maximum recommended task size is 1000 KiB.\n"
     ]
    },
    {
     "name": "stdout",
     "output_type": "stream",
     "text": [
      "+-------------------+--------------+\n",
      "|               time|temperature_2m|\n",
      "+-------------------+--------------+\n",
      "|2018-01-01 00:00:00|          16.4|\n",
      "|2018-01-01 01:00:00|          15.4|\n",
      "|2018-01-01 02:00:00|          14.8|\n",
      "|2018-01-01 03:00:00|          14.5|\n",
      "|2018-01-01 04:00:00|          13.7|\n",
      "|2018-01-01 05:00:00|          13.9|\n",
      "|2018-01-01 06:00:00|          15.9|\n",
      "|2018-01-01 07:00:00|          15.5|\n",
      "|2018-01-01 08:00:00|          14.1|\n",
      "|2018-01-01 09:00:00|          16.6|\n",
      "|2018-01-01 10:00:00|          19.8|\n",
      "|2018-01-01 11:00:00|          24.0|\n",
      "|2018-01-01 12:00:00|          25.6|\n",
      "|2018-01-01 13:00:00|          26.9|\n",
      "|2018-01-01 14:00:00|          26.0|\n",
      "|2018-01-01 15:00:00|          25.2|\n",
      "|2018-01-01 16:00:00|          26.1|\n",
      "|2018-01-01 17:00:00|          23.8|\n",
      "|2018-01-01 18:00:00|          18.1|\n",
      "|2018-01-01 19:00:00|          17.0|\n",
      "+-------------------+--------------+\n",
      "only showing top 20 rows\n",
      "\n"
     ]
    }
   ],
   "source": [
    "# Select only the \"time\" and \"assembled_features\" columns\n",
    "df = df.select(\"time\", \"temperature_2m\")\n",
    "df.show()"
   ]
  },
  {
   "cell_type": "markdown",
   "id": "bb2aeda4",
   "metadata": {},
   "source": [
    "> ## 2) - Si nous avons besoin de créer un modèle capable de prédire la température du futur, nous devons entraîner ce modèle sur des données ne contenant que des indices temporels. Ainsi, nous pourrons le former à cartographier la relation entre le temps et la variable cible. Pour ce faire, nous allons utiliser le script suivant."
   ]
  },
  {
   "cell_type": "code",
   "execution_count": 272,
   "id": "d47bde82",
   "metadata": {
    "execution": {
     "iopub.execute_input": "2023-12-25T00:41:21.679178Z",
     "iopub.status.busy": "2023-12-25T00:41:21.678765Z",
     "iopub.status.idle": "2023-12-25T00:41:22.028061Z",
     "shell.execute_reply": "2023-12-25T00:41:22.027045Z",
     "shell.execute_reply.started": "2023-12-25T00:41:21.679148Z"
    }
   },
   "outputs": [
    {
     "name": "stderr",
     "output_type": "stream",
     "text": [
      "23/12/25 00:41:21 WARN TaskSetManager: Stage 3422 contains a task of very large size (2979 KiB). The maximum recommended task size is 1000 KiB.\n"
     ]
    },
    {
     "name": "stdout",
     "output_type": "stream",
     "text": [
      "+-------------------+--------------+----+----+-----+-------+-----------+------------+-----------+\n",
      "|               time|temperature_2m|hour|week|month|quarter|day_of_week|day_of_month|day_of_year|\n",
      "+-------------------+--------------+----+----+-----+-------+-----------+------------+-----------+\n",
      "|2018-01-01 00:00:00|          16.4|   0|   1|    1|      1|          2|           1|          1|\n",
      "|2018-01-01 01:00:00|          15.4|   1|   1|    1|      1|          2|           1|          1|\n",
      "|2018-01-01 02:00:00|          14.8|   2|   1|    1|      1|          2|           1|          1|\n",
      "|2018-01-01 03:00:00|          14.5|   3|   1|    1|      1|          2|           1|          1|\n",
      "|2018-01-01 04:00:00|          13.7|   4|   1|    1|      1|          2|           1|          1|\n",
      "|2018-01-01 05:00:00|          13.9|   5|   1|    1|      1|          2|           1|          1|\n",
      "|2018-01-01 06:00:00|          15.9|   6|   1|    1|      1|          2|           1|          1|\n",
      "|2018-01-01 07:00:00|          15.5|   7|   1|    1|      1|          2|           1|          1|\n",
      "|2018-01-01 08:00:00|          14.1|   8|   1|    1|      1|          2|           1|          1|\n",
      "|2018-01-01 09:00:00|          16.6|   9|   1|    1|      1|          2|           1|          1|\n",
      "|2018-01-01 10:00:00|          19.8|  10|   1|    1|      1|          2|           1|          1|\n",
      "|2018-01-01 11:00:00|          24.0|  11|   1|    1|      1|          2|           1|          1|\n",
      "|2018-01-01 12:00:00|          25.6|  12|   1|    1|      1|          2|           1|          1|\n",
      "|2018-01-01 13:00:00|          26.9|  13|   1|    1|      1|          2|           1|          1|\n",
      "|2018-01-01 14:00:00|          26.0|  14|   1|    1|      1|          2|           1|          1|\n",
      "|2018-01-01 15:00:00|          25.2|  15|   1|    1|      1|          2|           1|          1|\n",
      "|2018-01-01 16:00:00|          26.1|  16|   1|    1|      1|          2|           1|          1|\n",
      "|2018-01-01 17:00:00|          23.8|  17|   1|    1|      1|          2|           1|          1|\n",
      "|2018-01-01 18:00:00|          18.1|  18|   1|    1|      1|          2|           1|          1|\n",
      "|2018-01-01 19:00:00|          17.0|  19|   1|    1|      1|          2|           1|          1|\n",
      "+-------------------+--------------+----+----+-----+-------+-----------+------------+-----------+\n",
      "only showing top 20 rows\n",
      "\n"
     ]
    }
   ],
   "source": [
    "data = df\n",
    "df = (df\n",
    "    .withColumn('hour', hour('time'))\n",
    "    .withColumn('week', weekofyear('time'))\n",
    "    .withColumn('month', month('time'))\n",
    "    .withColumn('quarter', quarter('time'))\n",
    "    .withColumn('day_of_week', dayofweek('time'))\n",
    "    .withColumn('day_of_month', dayofmonth('time'))\n",
    "    .withColumn('day_of_year', dayofyear('time'))\n",
    ")\n",
    "df.show()"
   ]
  },
  {
   "cell_type": "markdown",
   "id": "8426516c",
   "metadata": {},
   "source": [
    "> ## 3) -  la normalisation des  columns  :\n",
    ">> #### La normalisation des données est cruciale pour garantir que toutes les caractéristiques contribuent équitablement aux modèles d'apprentissage automatique. Cela permet d'éviter que des variables avec des échelles différentes ne dominent l'apprentissage du modèle.\n",
    "\n",
    "\n",
    "\n",
    "\n",
    "\n"
   ]
  },
  {
   "cell_type": "code",
   "execution_count": null,
   "id": "8fdea0cc",
   "metadata": {
    "execution": {
     "iopub.status.busy": "2023-12-25T00:33:24.738548Z",
     "iopub.status.idle": "2023-12-25T00:33:24.738924Z",
     "shell.execute_reply": "2023-12-25T00:33:24.738734Z",
     "shell.execute_reply.started": "2023-12-25T00:33:24.738717Z"
    }
   },
   "outputs": [],
   "source": [
    "data = df "
   ]
  },
  {
   "cell_type": "code",
   "execution_count": 273,
   "id": "5271243c",
   "metadata": {
    "collapsed": true,
    "execution": {
     "iopub.execute_input": "2023-12-25T00:41:27.064483Z",
     "iopub.status.busy": "2023-12-25T00:41:27.063626Z",
     "iopub.status.idle": "2023-12-25T00:41:31.794784Z",
     "shell.execute_reply": "2023-12-25T00:41:31.793680Z",
     "shell.execute_reply.started": "2023-12-25T00:41:27.064449Z"
    }
   },
   "outputs": [
    {
     "name": "stderr",
     "output_type": "stream",
     "text": [
      "23/12/25 00:41:27 WARN TaskSetManager: Stage 3423 contains a task of very large size (2979 KiB). The maximum recommended task size is 1000 KiB.\n",
      "23/12/25 00:41:27 WARN TaskSetManager: Stage 3426 contains a task of very large size (2979 KiB). The maximum recommended task size is 1000 KiB.\n",
      "23/12/25 00:41:27 WARN TaskSetManager: Stage 3429 contains a task of very large size (2979 KiB). The maximum recommended task size is 1000 KiB.\n",
      "23/12/25 00:41:27 WARN TaskSetManager: Stage 3432 contains a task of very large size (2979 KiB). The maximum recommended task size is 1000 KiB.\n",
      "23/12/25 00:41:28 WARN TaskSetManager: Stage 3435 contains a task of very large size (2979 KiB). The maximum recommended task size is 1000 KiB.\n",
      "23/12/25 00:41:28 WARN TaskSetManager: Stage 3438 contains a task of very large size (2979 KiB). The maximum recommended task size is 1000 KiB.\n",
      "23/12/25 00:41:28 WARN TaskSetManager: Stage 3441 contains a task of very large size (2979 KiB). The maximum recommended task size is 1000 KiB.\n",
      "23/12/25 00:41:29 WARN TaskSetManager: Stage 3444 contains a task of very large size (2979 KiB). The maximum recommended task size is 1000 KiB.\n",
      "23/12/25 00:41:29 WARN TaskSetManager: Stage 3447 contains a task of very large size (2979 KiB). The maximum recommended task size is 1000 KiB.\n",
      "23/12/25 00:41:30 WARN TaskSetManager: Stage 3450 contains a task of very large size (2979 KiB). The maximum recommended task size is 1000 KiB.\n",
      "23/12/25 00:41:30 WARN TaskSetManager: Stage 3453 contains a task of very large size (2979 KiB). The maximum recommended task size is 1000 KiB.\n",
      "23/12/25 00:41:30 WARN TaskSetManager: Stage 3456 contains a task of very large size (2979 KiB). The maximum recommended task size is 1000 KiB.\n",
      "23/12/25 00:41:31 WARN TaskSetManager: Stage 3459 contains a task of very large size (2979 KiB). The maximum recommended task size is 1000 KiB.\n",
      "23/12/25 00:41:31 WARN TaskSetManager: Stage 3462 contains a task of very large size (2979 KiB). The maximum recommended task size is 1000 KiB.\n"
     ]
    }
   ],
   "source": [
    "# Select columns to normalize\n",
    "columns_to_normalize = ['hour', 'week', 'month', 'quarter', 'day_of_week', 'day_of_month', 'day_of_year']\n",
    "for col_name in columns_to_normalize:\n",
    "    min_value = df.agg({col_name: 'min'}).collect()[0][0]\n",
    "    max_value = df.agg({col_name: 'max'}).collect()[0][0]\n",
    "    normalized_column = col_name + '_normalized'\n",
    "    df = df.withColumn(normalized_column, (col(col_name) - min_value) / (max_value - min_value))\n",
    "    df = df.drop(col_name).withColumnRenamed(normalized_column, col_name)"
   ]
  },
  {
   "cell_type": "code",
   "execution_count": 274,
   "id": "1392f3b8",
   "metadata": {
    "execution": {
     "iopub.execute_input": "2023-12-25T00:41:33.993285Z",
     "iopub.status.busy": "2023-12-25T00:41:33.992888Z",
     "iopub.status.idle": "2023-12-25T00:41:34.297691Z",
     "shell.execute_reply": "2023-12-25T00:41:34.296763Z",
     "shell.execute_reply.started": "2023-12-25T00:41:33.993255Z"
    }
   },
   "outputs": [
    {
     "name": "stderr",
     "output_type": "stream",
     "text": [
      "23/12/25 00:41:34 WARN TaskSetManager: Stage 3465 contains a task of very large size (2979 KiB). The maximum recommended task size is 1000 KiB.\n"
     ]
    },
    {
     "name": "stdout",
     "output_type": "stream",
     "text": [
      "+-------------------+--------------+--------------------+----+-----+-------+-------------------+------------+-----------+\n",
      "|               time|temperature_2m|                hour|week|month|quarter|        day_of_week|day_of_month|day_of_year|\n",
      "+-------------------+--------------+--------------------+----+-----+-------+-------------------+------------+-----------+\n",
      "|2018-01-01 00:00:00|          16.4|                 0.0| 0.0|  0.0|    0.0|0.16666666666666666|         0.0|        0.0|\n",
      "|2018-01-01 01:00:00|          15.4|0.043478260869565216| 0.0|  0.0|    0.0|0.16666666666666666|         0.0|        0.0|\n",
      "|2018-01-01 02:00:00|          14.8| 0.08695652173913043| 0.0|  0.0|    0.0|0.16666666666666666|         0.0|        0.0|\n",
      "|2018-01-01 03:00:00|          14.5| 0.13043478260869565| 0.0|  0.0|    0.0|0.16666666666666666|         0.0|        0.0|\n",
      "|2018-01-01 04:00:00|          13.7| 0.17391304347826086| 0.0|  0.0|    0.0|0.16666666666666666|         0.0|        0.0|\n",
      "|2018-01-01 05:00:00|          13.9| 0.21739130434782608| 0.0|  0.0|    0.0|0.16666666666666666|         0.0|        0.0|\n",
      "|2018-01-01 06:00:00|          15.9|  0.2608695652173913| 0.0|  0.0|    0.0|0.16666666666666666|         0.0|        0.0|\n",
      "|2018-01-01 07:00:00|          15.5| 0.30434782608695654| 0.0|  0.0|    0.0|0.16666666666666666|         0.0|        0.0|\n",
      "|2018-01-01 08:00:00|          14.1| 0.34782608695652173| 0.0|  0.0|    0.0|0.16666666666666666|         0.0|        0.0|\n",
      "|2018-01-01 09:00:00|          16.6|   0.391304347826087| 0.0|  0.0|    0.0|0.16666666666666666|         0.0|        0.0|\n",
      "|2018-01-01 10:00:00|          19.8| 0.43478260869565216| 0.0|  0.0|    0.0|0.16666666666666666|         0.0|        0.0|\n",
      "|2018-01-01 11:00:00|          24.0|  0.4782608695652174| 0.0|  0.0|    0.0|0.16666666666666666|         0.0|        0.0|\n",
      "|2018-01-01 12:00:00|          25.6|  0.5217391304347826| 0.0|  0.0|    0.0|0.16666666666666666|         0.0|        0.0|\n",
      "|2018-01-01 13:00:00|          26.9|  0.5652173913043478| 0.0|  0.0|    0.0|0.16666666666666666|         0.0|        0.0|\n",
      "|2018-01-01 14:00:00|          26.0|  0.6086956521739131| 0.0|  0.0|    0.0|0.16666666666666666|         0.0|        0.0|\n",
      "|2018-01-01 15:00:00|          25.2|  0.6521739130434783| 0.0|  0.0|    0.0|0.16666666666666666|         0.0|        0.0|\n",
      "|2018-01-01 16:00:00|          26.1|  0.6956521739130435| 0.0|  0.0|    0.0|0.16666666666666666|         0.0|        0.0|\n",
      "|2018-01-01 17:00:00|          23.8|  0.7391304347826086| 0.0|  0.0|    0.0|0.16666666666666666|         0.0|        0.0|\n",
      "|2018-01-01 18:00:00|          18.1|   0.782608695652174| 0.0|  0.0|    0.0|0.16666666666666666|         0.0|        0.0|\n",
      "|2018-01-01 19:00:00|          17.0|  0.8260869565217391| 0.0|  0.0|    0.0|0.16666666666666666|         0.0|        0.0|\n",
      "+-------------------+--------------+--------------------+----+-----+-------+-------------------+------------+-----------+\n",
      "only showing top 20 rows\n",
      "\n"
     ]
    }
   ],
   "source": [
    "df.show()"
   ]
  },
  {
   "cell_type": "code",
   "execution_count": null,
   "id": "68a2f0af",
   "metadata": {
    "execution": {
     "iopub.status.busy": "2023-12-25T00:33:24.743240Z",
     "iopub.status.idle": "2023-12-25T00:33:24.743554Z",
     "shell.execute_reply": "2023-12-25T00:33:24.743413Z",
     "shell.execute_reply.started": "2023-12-25T00:33:24.743398Z"
    }
   },
   "outputs": [],
   "source": [
    "data = df"
   ]
  },
  {
   "cell_type": "markdown",
   "id": "77c54173",
   "metadata": {},
   "source": [
    "# IV) - Entraînement et évaluation des modèles.\n",
    "> ### Dans cette section, nous allons essayer d'Entraîner plusieurs modèles sur nos données et choisir le modèle le plus performant"
   ]
  },
  {
   "cell_type": "code",
   "execution_count": null,
   "id": "ca37ca7d",
   "metadata": {
    "execution": {
     "iopub.status.busy": "2023-12-25T00:33:24.744779Z",
     "iopub.status.idle": "2023-12-25T00:33:24.745141Z",
     "shell.execute_reply": "2023-12-25T00:33:24.744986Z",
     "shell.execute_reply.started": "2023-12-25T00:33:24.744971Z"
    }
   },
   "outputs": [],
   "source": [
    "from pyspark.ml.evaluation import RegressionEvaluator\n",
    "from pyspark.sql import functions as F\n",
    "\n",
    "import matplotlib.pyplot as plt\n",
    "def display_model_performance(model, test_data):\n",
    "    # Make predictions on the test data\n",
    "    predictions = model.transform(test_data)\n",
    "\n",
    "    # Evaluate the model\n",
    "    evaluator = RegressionEvaluator(labelCol=\"label\", predictionCol=\"prediction\", metricName=\"rmse\")\n",
    "    rmse = evaluator.evaluate(predictions)\n",
    "\n",
    "    # Convert the PySpark DataFrame to a Pandas DataFrame\n",
    "    result_df = predictions.select(\"label\", \"prediction\").toPandas()\n",
    "\n",
    "    # Plot the graph\n",
    "    plt.plot(result_df['label'], result_df['prediction'], 'bo')\n",
    "    plt.xlabel('Temperature')\n",
    "    plt.ylabel('Prediction')\n",
    "    plt.suptitle(\"Model Performance RMSE: %f\" % rmse)\n",
    "    plt.show()\n",
    "    \n",
    "\n",
    "def evaluate_model(model, test_data):\n",
    "    # Make predictions on the test data\n",
    "    predictions = model.transform(test_data)\n",
    "    forecast_bias = predictions.agg(F.avg(predictions['label'] - predictions['prediction'])).collect()[0][0]\n",
    "\n",
    "    # Calculate R-squared (R2)\n",
    "    evaluator = RegressionEvaluator(labelCol='label', predictionCol='prediction', metricName='r2')\n",
    "    r2 = evaluator.evaluate(predictions)\n",
    "\n",
    "    # Calculate Mean Absolute Scaled Error (MASE)\n",
    "    mean_absolute_error = evaluator.evaluate(predictions, {evaluator.metricName: 'mae'})\n",
    "    mase = mean_absolute_error / predictions.agg(F.mean('label')).collect()[0][0]\n",
    "\n",
    "    # Calculate Symmetric Mean Absolute Percentage Error (SMAPE)\n",
    "    smape_numerator = F.sum(F.abs(predictions['label'] - predictions['prediction']))\n",
    "    smape_denominator = F.sum(F.abs(predictions['label']) + F.abs(predictions['prediction']))\n",
    "    smape = F.when(smape_denominator == 0, 0).otherwise(200 * smape_numerator / smape_denominator)\n",
    "\n",
    "    # Calculate Mean Absolute Percentage Error (MAPE)\n",
    "    mape = F.avg(F.abs(predictions['label'] - predictions['prediction']) / F.abs(predictions['label']))\n",
    "\n",
    "    # Calculate Root Mean Squared Error (RMSE)\n",
    "    rmse = evaluator.evaluate(predictions, {evaluator.metricName: 'rmse'})\n",
    "\n",
    "    # Calculate Mean Squared Error (MSE)\n",
    "    mse = evaluator.evaluate(predictions, {evaluator.metricName: 'mse'})\n",
    "\n",
    "    # Calculate Mean Absolute Error (MAE)\n",
    "    mae = evaluator.evaluate(predictions, {evaluator.metricName: 'mae'})\n",
    "\n",
    "    # Print the metrics\n",
    "    print(f\"Forecast Bias: {forecast_bias}\")\n",
    "    print(f\"R-squared (R2): {r2}\")\n",
    "    print(f\"Mean Absolute Scaled Error (MASE): {mase}\")\n",
    "    print(f\"Root Mean Squared Error (RMSE): {rmse}\")\n",
    "    print(f\"Mean Squared Error (MSE): {mse}\")\n",
    "    print(f\"Mean Absolute Error (MAE): {mae}\")\n",
    "    return [ forecast_bias , r2 , mase , rmse , mse , mae ]\n",
    "#  [ 'Forecast Bias' , 'R-squared (R2)' , 'Mean Absolute Scaled Error (MASE)' , 'Root Mean Squared Error (RMSE)','Mean Squared Error (MSE)' , 'Mean Absolute Error (MAE)']\n"
   ]
  },
  {
   "cell_type": "code",
   "execution_count": null,
   "id": "7a2c5dc6",
   "metadata": {
    "execution": {
     "iopub.status.busy": "2023-12-25T00:33:24.746865Z",
     "iopub.status.idle": "2023-12-25T00:33:24.747217Z",
     "shell.execute_reply": "2023-12-25T00:33:24.747056Z",
     "shell.execute_reply.started": "2023-12-25T00:33:24.747040Z"
    }
   },
   "outputs": [],
   "source": [
    "data = df \n",
    "df = df.drop('time')"
   ]
  },
  {
   "cell_type": "code",
   "execution_count": 275,
   "id": "e8a4bc82",
   "metadata": {
    "execution": {
     "iopub.execute_input": "2023-12-25T00:41:59.065274Z",
     "iopub.status.busy": "2023-12-25T00:41:59.064439Z",
     "iopub.status.idle": "2023-12-25T00:41:59.080781Z",
     "shell.execute_reply": "2023-12-25T00:41:59.079931Z",
     "shell.execute_reply.started": "2023-12-25T00:41:59.065240Z"
    },
    "scrolled": true
   },
   "outputs": [],
   "source": [
    "from pyspark.ml.feature import VectorAssembler\n",
    "feature_list = []\n",
    "df = df.withColumnRenamed(\"temperature_2m\", \"label\")\n",
    "for col in df.columns:\n",
    "    if col == 'temperature_2m':\n",
    "        continue\n",
    "    else:\n",
    "        feature_list.append(col)\n",
    "assembler = VectorAssembler(inputCols=feature_list, outputCol=\"features\")"
   ]
  },
  {
   "cell_type": "code",
   "execution_count": 276,
   "id": "84349b1d",
   "metadata": {
    "execution": {
     "iopub.execute_input": "2023-12-25T00:42:03.824375Z",
     "iopub.status.busy": "2023-12-25T00:42:03.823982Z",
     "iopub.status.idle": "2023-12-25T00:42:03.837495Z",
     "shell.execute_reply": "2023-12-25T00:42:03.836356Z",
     "shell.execute_reply.started": "2023-12-25T00:42:03.824345Z"
    }
   },
   "outputs": [],
   "source": [
    "# Sort the data based on 'time'\n",
    "df = df.orderBy('time')"
   ]
  },
  {
   "cell_type": "markdown",
   "id": "66333b8c",
   "metadata": {},
   "source": [
    "> ## 1) - Construction et entrainement du modèle Random Forest Regressor.\n",
    ">> ### - Forces:\n",
    ">> ### + Méthode d'ensemble qui réduit le surajustement par rapport aux arbres de décision individuels.\n",
    ">> ### + Robuste et gère bien les valeurs aberrantes.\n",
    ">> ### - Désavantages:\n",
    ">> ### + Plus complexe qu’un seul arbre de décision."
   ]
  },
  {
   "cell_type": "markdown",
   "id": "4e3c6b91",
   "metadata": {},
   "source": [
    ">>> ### a) Construction du model "
   ]
  },
  {
   "cell_type": "code",
   "execution_count": 277,
   "id": "4764d1b1",
   "metadata": {
    "execution": {
     "iopub.execute_input": "2023-12-25T00:42:06.812857Z",
     "iopub.status.busy": "2023-12-25T00:42:06.811865Z",
     "iopub.status.idle": "2023-12-25T00:42:06.823457Z",
     "shell.execute_reply": "2023-12-25T00:42:06.822594Z",
     "shell.execute_reply.started": "2023-12-25T00:42:06.812816Z"
    }
   },
   "outputs": [],
   "source": [
    "rf = RandomForestRegressor(labelCol=\"label\", featuresCol=\"features\")\n",
    "pipeline = Pipeline(stages=[assembler, rf])"
   ]
  },
  {
   "cell_type": "code",
   "execution_count": 278,
   "id": "9c4fd614",
   "metadata": {
    "execution": {
     "iopub.execute_input": "2023-12-25T00:42:09.099097Z",
     "iopub.status.busy": "2023-12-25T00:42:09.098723Z",
     "iopub.status.idle": "2023-12-25T00:42:09.105088Z",
     "shell.execute_reply": "2023-12-25T00:42:09.104100Z",
     "shell.execute_reply.started": "2023-12-25T00:42:09.099061Z"
    }
   },
   "outputs": [],
   "source": [
    "paramGrid = ParamGridBuilder() \\\n",
    "    .addGrid(rf.numTrees, [int(x) for x in np.linspace(start = 10, stop = 50, num = 3)]) \\\n",
    "    .addGrid(rf.maxDepth, [int(x) for x in np.linspace(start = 5, stop = 25, num = 3)]) \\\n",
    "    .build()"
   ]
  },
  {
   "cell_type": "code",
   "execution_count": 279,
   "id": "6ea76643",
   "metadata": {
    "execution": {
     "iopub.execute_input": "2023-12-25T00:42:11.765146Z",
     "iopub.status.busy": "2023-12-25T00:42:11.764750Z",
     "iopub.status.idle": "2023-12-25T00:42:11.773760Z",
     "shell.execute_reply": "2023-12-25T00:42:11.772755Z",
     "shell.execute_reply.started": "2023-12-25T00:42:11.765109Z"
    }
   },
   "outputs": [],
   "source": [
    "crossval = CrossValidator(estimator=pipeline,\n",
    "                          estimatorParamMaps=paramGrid,\n",
    "                          evaluator=RegressionEvaluator(),\n",
    "                          numFolds=3)"
   ]
  },
  {
   "cell_type": "code",
   "execution_count": null,
   "id": "f41bca88",
   "metadata": {},
   "outputs": [],
   "source": [
    "df = data.withColumnRenamed('temperature_2m', 'label')\n",
    "df = df.withColumn(\"time\", to_timestamp(\"time\"))\n",
    "trainingData = df.filter(col('time') < '2023-01-01 12:00:00').drop('time')\n",
    "testData = df.filter(col('time') >= '2023-01-01 12:00:00').drop('time')\n",
    "trainingData.show(3)"
   ]
  },
  {
   "cell_type": "code",
   "execution_count": null,
   "id": "bafb1571",
   "metadata": {
    "execution": {
     "iopub.status.busy": "2023-12-25T00:33:24.757535Z",
     "iopub.status.idle": "2023-12-25T00:33:24.757900Z",
     "shell.execute_reply": "2023-12-25T00:33:24.757722Z",
     "shell.execute_reply.started": "2023-12-25T00:33:24.757706Z"
    }
   },
   "outputs": [],
   "source": [
    "trainingData = trainingData.withColumn(\"label\", trainingData[\"label\"].cast(DoubleType()))\n",
    "testData = testData.withColumn(\"label\", testData[\"label\"].cast(DoubleType()))"
   ]
  },
  {
   "cell_type": "markdown",
   "id": "d15a4f94",
   "metadata": {},
   "source": [
    ">>> ### b) Entrainement du model "
   ]
  },
  {
   "cell_type": "code",
   "execution_count": null,
   "id": "13743de6",
   "metadata": {
    "execution": {
     "iopub.status.busy": "2023-12-25T00:33:24.758971Z",
     "iopub.status.idle": "2023-12-25T00:33:24.759278Z",
     "shell.execute_reply": "2023-12-25T00:33:24.759137Z",
     "shell.execute_reply.started": "2023-12-25T00:33:24.759123Z"
    }
   },
   "outputs": [],
   "source": [
    "cvModel = crossval.fit(trainingData)"
   ]
  },
  {
   "cell_type": "markdown",
   "id": "2bd04146",
   "metadata": {},
   "source": [
    ">>> ### c) Prediction du model "
   ]
  },
  {
   "cell_type": "code",
   "execution_count": null,
   "id": "2233d184",
   "metadata": {
    "execution": {
     "iopub.status.busy": "2023-12-25T00:33:24.760649Z",
     "iopub.status.idle": "2023-12-25T00:33:24.760994Z",
     "shell.execute_reply": "2023-12-25T00:33:24.760844Z",
     "shell.execute_reply.started": "2023-12-25T00:33:24.760827Z"
    }
   },
   "outputs": [],
   "source": [
    "predictions = DecisionTreeR_model.transform(testData)"
   ]
  },
  {
   "cell_type": "markdown",
   "id": "2dfec043",
   "metadata": {},
   "source": [
    ">>> ### d) évaluation des performances du modèle"
   ]
  },
  {
   "cell_type": "code",
   "execution_count": 252,
   "id": "b3236227",
   "metadata": {
    "execution": {
     "iopub.execute_input": "2023-12-25T00:33:46.286745Z",
     "iopub.status.busy": "2023-12-25T00:33:46.285808Z",
     "iopub.status.idle": "2023-12-25T00:34:00.804926Z",
     "shell.execute_reply": "2023-12-25T00:34:00.803828Z",
     "shell.execute_reply.started": "2023-12-25T00:33:46.286707Z"
    }
   },
   "outputs": [
    {
     "name": "stderr",
     "output_type": "stream",
     "text": [
      "23/12/25 00:33:56 WARN TaskSetManager: Stage 3274 contains a task of very large size (2979 KiB). The maximum recommended task size is 1000 KiB.\n",
      "23/12/25 00:33:57 WARN TaskSetManager: Stage 3277 contains a task of very large size (2979 KiB). The maximum recommended task size is 1000 KiB.\n",
      "23/12/25 00:33:58 WARN TaskSetManager: Stage 3278 contains a task of very large size (2979 KiB). The maximum recommended task size is 1000 KiB.\n",
      "23/12/25 00:33:58 WARN TaskSetManager: Stage 3279 contains a task of very large size (2979 KiB). The maximum recommended task size is 1000 KiB.\n",
      "23/12/25 00:33:58 WARN TaskSetManager: Stage 3282 contains a task of very large size (2979 KiB). The maximum recommended task size is 1000 KiB.\n",
      "23/12/25 00:33:59 WARN TaskSetManager: Stage 3283 contains a task of very large size (2979 KiB). The maximum recommended task size is 1000 KiB.\n",
      "23/12/25 00:34:00 WARN TaskSetManager: Stage 3284 contains a task of very large size (2979 KiB). The maximum recommended task size is 1000 KiB.\n"
     ]
    },
    {
     "name": "stdout",
     "output_type": "stream",
     "text": [
      "Forecast Bias: 0.14757012699053085\n",
      "R-squared (R2): 0.981833876785637\n",
      "Mean Absolute Scaled Error (MASE): 0.0173103603865755\n",
      "Root Mean Squared Error (RMSE): 0.8474661274192703\n",
      "Mean Squared Error (MSE): 0.7181988371230149\n",
      "Mean Absolute Error (MAE): 0.3809325986470272\n"
     ]
    },
    {
     "name": "stderr",
     "output_type": "stream",
     "text": [
      "                                                                                \r"
     ]
    }
   ],
   "source": [
    "models_performance = []\n",
    "models_performance.append(['RandomForestRegressor']+evaluate_model(cvModel, testData))"
   ]
  },
  {
   "cell_type": "markdown",
   "id": "9be33e82",
   "metadata": {},
   "source": [
    ">>> ### d) Analyse de l'importance des variables explicatives pour la prédiction"
   ]
  },
  {
   "cell_type": "code",
   "execution_count": 253,
   "id": "2cb5e5d1",
   "metadata": {
    "execution": {
     "iopub.execute_input": "2023-12-25T00:34:00.807267Z",
     "iopub.status.busy": "2023-12-25T00:34:00.806909Z",
     "iopub.status.idle": "2023-12-25T00:34:01.107677Z",
     "shell.execute_reply": "2023-12-25T00:34:01.106727Z",
     "shell.execute_reply.started": "2023-12-25T00:34:00.807234Z"
    }
   },
   "outputs": [
    {
     "data": {
      "image/png": "[encoded data removed]",
      "text/plain": [
       "<Figure size 640x480 with 1 Axes>"
      ]
     },
     "metadata": {},
     "output_type": "display_data"
    }
   ],
   "source": [
    "display_feature_importances(cvModel)"
   ]
  },
  {
   "cell_type": "markdown",
   "id": "eecd8494",
   "metadata": {},
   "source": [
    ">>> ### e) - analyse la cohérence entre la température prévue et la température réelle"
   ]
  },
  {
   "cell_type": "code",
   "execution_count": 254,
   "id": "aafb773e",
   "metadata": {
    "execution": {
     "iopub.execute_input": "2023-12-25T00:34:01.109025Z",
     "iopub.status.busy": "2023-12-25T00:34:01.108721Z",
     "iopub.status.idle": "2023-12-25T00:34:02.838466Z",
     "shell.execute_reply": "2023-12-25T00:34:02.837499Z",
     "shell.execute_reply.started": "2023-12-25T00:34:01.108999Z"
    }
   },
   "outputs": [
    {
     "name": "stderr",
     "output_type": "stream",
     "text": [
      "23/12/25 00:34:01 WARN TaskSetManager: Stage 3285 contains a task of very large size (2979 KiB). The maximum recommended task size is 1000 KiB.\n",
      "23/12/25 00:34:01 WARN TaskSetManager: Stage 3286 contains a task of very large size (2979 KiB). The maximum recommended task size is 1000 KiB.\n"
     ]
    },
    {
     "data": {
      "image/png": "[encoded data removed]",
      "text/plain": [
       "<Figure size 640x480 with 1 Axes>"
      ]
     },
     "metadata": {},
     "output_type": "display_data"
    }
   ],
   "source": [
    "display_model_performance(model, testData)"
   ]
  },
  {
   "cell_type": "code",
   "execution_count": 255,
   "id": "a4a664be",
   "metadata": {
    "execution": {
     "iopub.execute_input": "2023-12-25T00:34:02.841159Z",
     "iopub.status.busy": "2023-12-25T00:34:02.840451Z",
     "iopub.status.idle": "2023-12-25T00:34:03.042412Z",
     "shell.execute_reply": "2023-12-25T00:34:03.041439Z",
     "shell.execute_reply.started": "2023-12-25T00:34:02.841113Z"
    }
   },
   "outputs": [
    {
     "name": "stdout",
     "output_type": "stream",
     "text": [
      "        Feature  Importance\n",
      "0         label    0.766365\n",
      "1          hour    0.095906\n",
      "3         month    0.050069\n",
      "7   day_of_year    0.047820\n",
      "2          week    0.023061\n",
      "4       quarter    0.007743\n",
      "6  day_of_month    0.006069\n",
      "5   day_of_week    0.002966\n"
     ]
    },
    {
     "data": {
      "image/png": "[encoded data removed]",
      "text/plain": [
       "<Figure size 640x480 with 1 Axes>"
      ]
     },
     "metadata": {},
     "output_type": "display_data"
    }
   ],
   "source": [
    "# Extract feature importances from the trained RandomForestRegressor model\n",
    "feature_importances = cvModel.bestModel.stages[-1].featureImportances\n",
    "feature_importance_df = pd.DataFrame({\n",
    "    'Feature': assembler.getInputCols(),\n",
    "    'Importance': feature_importances.toArray()\n",
    "})\n",
    "feature_importance_df = feature_importance_df.sort_values(by='Importance', ascending=False)\n",
    "print(feature_importance_df)\n",
    "\n",
    "importance = list(feature_importance_df.Importance )[1:]\n",
    "Feature = list(feature_importance_df.Feature )[1:]\n",
    "\n",
    "plt.bar(Feature, importance, color='blue')\n",
    "plt.xlabel('Features')\n",
    "plt.ylabel('Importance')\n",
    "plt.title('Feature Importance Bar Diagram')\n",
    "plt.xticks(rotation=45, ha='right')\n",
    "plt.show()"
   ]
  },
  {
   "cell_type": "code",
   "execution_count": null,
   "id": "0fe52d96",
   "metadata": {},
   "outputs": [],
   "source": []
  },
  {
   "cell_type": "code",
   "execution_count": null,
   "id": "b0090c83",
   "metadata": {
    "execution": {
     "iopub.status.busy": "2023-12-25T00:33:24.769449Z",
     "iopub.status.idle": "2023-12-25T00:33:24.769856Z",
     "shell.execute_reply": "2023-12-25T00:33:24.769654Z",
     "shell.execute_reply.started": "2023-12-25T00:33:24.769636Z"
    }
   },
   "outputs": [],
   "source": [
    "# Save the model to a folder\n",
    "model.save(\"models/random_forest_model\")"
   ]
  },
  {
   "cell_type": "code",
   "execution_count": null,
   "id": "4b448ac1",
   "metadata": {
    "execution": {
     "iopub.status.busy": "2023-12-25T00:33:24.771490Z",
     "iopub.status.idle": "2023-12-25T00:33:24.771872Z",
     "shell.execute_reply": "2023-12-25T00:33:24.771682Z",
     "shell.execute_reply.started": "2023-12-25T00:33:24.771666Z"
    }
   },
   "outputs": [],
   "source": [
    "# Load the model from the folder\n",
    "loaded_model = PipelineModel.load(\"models/random_forest_model\")\n",
    "\n",
    "# Make predictions on new data\n",
    "new_data = ...  # Provide new data in a DataFrame format\n",
    "predictions = loaded_model.transform(new_data)\n",
    "\n",
    "# Show the predictions\n",
    "predictions.show()"
   ]
  },
  {
   "cell_type": "markdown",
   "id": "ece17733",
   "metadata": {},
   "source": [
    "> ## Gradient-Boosted Trees "
   ]
  },
  {
   "cell_type": "code",
   "execution_count": null,
   "id": "f8ac32b8",
   "metadata": {
    "execution": {
     "iopub.status.busy": "2023-12-25T00:33:24.773227Z",
     "iopub.status.idle": "2023-12-25T00:33:24.773692Z",
     "shell.execute_reply": "2023-12-25T00:33:24.773470Z",
     "shell.execute_reply.started": "2023-12-25T00:33:24.773448Z"
    }
   },
   "outputs": [],
   "source": [
    "from pyspark.ml import Pipeline\n",
    "from pyspark.ml.feature import VectorAssembler\n",
    "from pyspark.ml.regression import GBTRegressor\n"
   ]
  },
  {
   "cell_type": "markdown",
   "id": "11705365",
   "metadata": {},
   "source": [
    ">>> ### a) Construction et Entrainement du model du model "
   ]
  },
  {
   "cell_type": "code",
   "execution_count": null,
   "id": "0570f32a",
   "metadata": {
    "execution": {
     "iopub.status.busy": "2023-12-25T00:33:24.780598Z",
     "iopub.status.idle": "2023-12-25T00:33:24.780974Z",
     "shell.execute_reply": "2023-12-25T00:33:24.780811Z",
     "shell.execute_reply.started": "2023-12-25T00:33:24.780779Z"
    }
   },
   "outputs": [],
   "source": [
    "\n",
    "# Create a GBT model\n",
    "gbt = GBTRegressor(featuresCol='features', labelCol='label', maxIter=10, seed=42)\n",
    "# Create a pipeline with the assembler and the GBT model\n",
    "pipeline = Pipeline(stages=[assembler, gbt])\n",
    "# Fit the pipeline on the training data\n",
    "GBTRegressor_model = pipeline.fit(trainingData)"
   ]
  },
  {
   "cell_type": "markdown",
   "id": "13bd0072",
   "metadata": {},
   "source": [
    ">>> ### b) évaluation des performances du modèle"
   ]
  },
  {
   "cell_type": "code",
   "execution_count": 256,
   "id": "bb522d6e",
   "metadata": {
    "execution": {
     "iopub.execute_input": "2023-12-25T00:34:54.025996Z",
     "iopub.status.busy": "2023-12-25T00:34:54.025106Z",
     "iopub.status.idle": "2023-12-25T00:34:56.726841Z",
     "shell.execute_reply": "2023-12-25T00:34:56.725737Z",
     "shell.execute_reply.started": "2023-12-25T00:34:54.025960Z"
    }
   },
   "outputs": [
    {
     "name": "stderr",
     "output_type": "stream",
     "text": [
      "23/12/25 00:34:54 WARN TaskSetManager: Stage 3287 contains a task of very large size (2979 KiB). The maximum recommended task size is 1000 KiB.\n",
      "23/12/25 00:34:54 WARN TaskSetManager: Stage 3290 contains a task of very large size (2979 KiB). The maximum recommended task size is 1000 KiB.\n",
      "23/12/25 00:34:54 WARN TaskSetManager: Stage 3291 contains a task of very large size (2979 KiB). The maximum recommended task size is 1000 KiB.\n",
      "23/12/25 00:34:55 WARN TaskSetManager: Stage 3292 contains a task of very large size (2979 KiB). The maximum recommended task size is 1000 KiB.\n",
      "23/12/25 00:34:55 WARN TaskSetManager: Stage 3295 contains a task of very large size (2979 KiB). The maximum recommended task size is 1000 KiB.\n",
      "23/12/25 00:34:56 WARN TaskSetManager: Stage 3296 contains a task of very large size (2979 KiB). The maximum recommended task size is 1000 KiB.\n",
      "23/12/25 00:34:56 WARN TaskSetManager: Stage 3297 contains a task of very large size (2979 KiB). The maximum recommended task size is 1000 KiB.\n"
     ]
    },
    {
     "name": "stdout",
     "output_type": "stream",
     "text": [
      "Forecast Bias: 0.06870655863866651\n",
      "R-squared (R2): 0.9770798456012372\n",
      "Mean Absolute Scaled Error (MASE): 0.016928571179081142\n",
      "Root Mean Squared Error (RMSE): 0.951918989452185\n",
      "Mean Squared Error (MSE): 0.9061497624796692\n",
      "Mean Absolute Error (MAE): 0.37253092752647654\n"
     ]
    }
   ],
   "source": [
    "models_performance.append(['GBTRegressor_model']+evaluate_model(GBTRegressor_model, testData))"
   ]
  },
  {
   "cell_type": "markdown",
   "id": "1e6e3c24",
   "metadata": {
    "execution": {
     "iopub.execute_input": "2023-12-25T00:35:28.843626Z",
     "iopub.status.busy": "2023-12-25T00:35:28.843206Z",
     "iopub.status.idle": "2023-12-25T00:35:28.849083Z",
     "shell.execute_reply": "2023-12-25T00:35:28.848051Z",
     "shell.execute_reply.started": "2023-12-25T00:35:28.843588Z"
    }
   },
   "source": [
    ">>> ### c) Analyse de l'importance des variables explicatives pour la prédiction"
   ]
  },
  {
   "cell_type": "code",
   "execution_count": 258,
   "id": "7c6403d1",
   "metadata": {
    "execution": {
     "iopub.execute_input": "2023-12-25T00:36:02.610808Z",
     "iopub.status.busy": "2023-12-25T00:36:02.609863Z",
     "iopub.status.idle": "2023-12-25T00:36:02.856618Z",
     "shell.execute_reply": "2023-12-25T00:36:02.855600Z",
     "shell.execute_reply.started": "2023-12-25T00:36:02.610758Z"
    }
   },
   "outputs": [
    {
     "name": "stdout",
     "output_type": "stream",
     "text": [
      "        Feature  Importance\n",
      "0         label    0.983100\n",
      "1          hour    0.006212\n",
      "5   day_of_week    0.003230\n",
      "7   day_of_year    0.003219\n",
      "2          week    0.002188\n",
      "6  day_of_month    0.001233\n",
      "3         month    0.000819\n",
      "4       quarter    0.000000\n"
     ]
    },
    {
     "data": {
      "image/png": "[encoded data removed]",
      "text/plain": [
       "<Figure size 640x480 with 1 Axes>"
      ]
     },
     "metadata": {},
     "output_type": "display_data"
    }
   ],
   "source": [
    "# Extract feature importances from the trained GBT model\n",
    "feature_importances = GBTRegressor_model.stages[-1].featureImportances\n",
    "\n",
    "# Create a DataFrame to display feature names and their importance scores\n",
    "feature_importance_df = pd.DataFrame({\n",
    "    'Feature': assembler.getInputCols(),\n",
    "    'Importance': feature_importances.toArray()\n",
    "})\n",
    "feature_importance_df = feature_importance_df.sort_values(by='Importance', ascending=False)\n",
    "print(feature_importance_df)\n",
    "\n",
    "importance = list(feature_importance_df.Importance )[1:]\n",
    "Feature = list(feature_importance_df.Feature )[1:]\n",
    "\n",
    "plt.bar(Feature, importance, color='blue')\n",
    "plt.xlabel('Features')\n",
    "plt.ylabel('Importance')\n",
    "plt.title('Feature Importance Bar Diagram')\n",
    "plt.xticks(rotation=45, ha='right')\n",
    "plt.show()"
   ]
  },
  {
   "cell_type": "markdown",
   "id": "eb0f30dc",
   "metadata": {},
   "source": [
    "\n"
   ]
  },
  {
   "cell_type": "markdown",
   "id": "d60a749a",
   "metadata": {},
   "source": [
    ">>> ### c) - analyse la cohérence entre la température prévue et la température réelle"
   ]
  },
  {
   "cell_type": "code",
   "execution_count": 259,
   "id": "090a1511",
   "metadata": {
    "execution": {
     "iopub.execute_input": "2023-12-25T00:36:08.243801Z",
     "iopub.status.busy": "2023-12-25T00:36:08.243136Z",
     "iopub.status.idle": "2023-12-25T00:36:09.448374Z",
     "shell.execute_reply": "2023-12-25T00:36:09.447233Z",
     "shell.execute_reply.started": "2023-12-25T00:36:08.243757Z"
    }
   },
   "outputs": [
    {
     "name": "stderr",
     "output_type": "stream",
     "text": [
      "23/12/25 00:36:08 WARN TaskSetManager: Stage 3298 contains a task of very large size (2979 KiB). The maximum recommended task size is 1000 KiB.\n",
      "23/12/25 00:36:08 WARN TaskSetManager: Stage 3299 contains a task of very large size (2979 KiB). The maximum recommended task size is 1000 KiB.\n"
     ]
    },
    {
     "data": {
      "image/png": "[encoded data removed]",
      "text/plain": [
       "<Figure size 640x480 with 1 Axes>"
      ]
     },
     "metadata": {},
     "output_type": "display_data"
    }
   ],
   "source": [
    "display_model_performance(GBTRegressor_model, testData)"
   ]
  },
  {
   "cell_type": "markdown",
   "id": "93feecfd",
   "metadata": {},
   "source": [
    "> ## Support Vector Machines (SVM)"
   ]
  },
  {
   "cell_type": "code",
   "execution_count": null,
   "id": "d1db6332",
   "metadata": {
    "execution": {
     "iopub.status.busy": "2023-12-25T00:33:24.787330Z",
     "iopub.status.idle": "2023-12-25T00:33:24.787648Z",
     "shell.execute_reply": "2023-12-25T00:33:24.787497Z",
     "shell.execute_reply.started": "2023-12-25T00:33:24.787482Z"
    }
   },
   "outputs": [],
   "source": [
    "from pyspark.ml.regression import DecisionTreeRegressor"
   ]
  },
  {
   "cell_type": "markdown",
   "id": "b60d977b",
   "metadata": {},
   "source": [
    ">>> ### a) Construction du model "
   ]
  },
  {
   "cell_type": "code",
   "execution_count": null,
   "id": "82432529",
   "metadata": {
    "execution": {
     "iopub.status.busy": "2023-12-25T00:33:24.788844Z",
     "iopub.status.idle": "2023-12-25T00:33:24.789181Z",
     "shell.execute_reply": "2023-12-25T00:33:24.789029Z",
     "shell.execute_reply.started": "2023-12-25T00:33:24.789013Z"
    }
   },
   "outputs": [],
   "source": [
    "from pyspark.ml.feature import VectorAssembler\n",
    "\n",
    "feature_list = []\n",
    "df = df.withColumnRenamed(\"temperature_2m\", \"label\")\n",
    "for col in df.columns:\n",
    "    if col == 'temperature_2m':\n",
    "        continue\n",
    "    else:\n",
    "        feature_list.append(col)\n",
    "        \n",
    "assembler = VectorAssembler(inputCols=feature_list, outputCol=\"features\")\n",
    "\n",
    "trainingData = trainingData.withColumn(\"label\", trainingData[\"label\"].cast(DoubleType()))\n",
    "testData = testData.withColumn(\"label\", testData[\"label\"].cast(DoubleType()))\n",
    "\n",
    "dt = DecisionTreeRegressor(featuresCol='features', labelCol='label')\n",
    "pipeline = Pipeline(stages=[assembler, dt])\n",
    "\n",
    "DecisionTreeR_model = pipeline.fit(trainingData)"
   ]
  },
  {
   "cell_type": "markdown",
   "id": "b15827a5",
   "metadata": {},
   "source": [
    ">>> ### b) évaluation des performances du modèle"
   ]
  },
  {
   "cell_type": "code",
   "execution_count": 260,
   "id": "23992d0e",
   "metadata": {
    "execution": {
     "iopub.execute_input": "2023-12-25T00:36:42.708894Z",
     "iopub.status.busy": "2023-12-25T00:36:42.708503Z",
     "iopub.status.idle": "2023-12-25T00:36:45.383297Z",
     "shell.execute_reply": "2023-12-25T00:36:45.382287Z",
     "shell.execute_reply.started": "2023-12-25T00:36:42.708862Z"
    }
   },
   "outputs": [
    {
     "name": "stderr",
     "output_type": "stream",
     "text": [
      "23/12/25 00:36:42 WARN TaskSetManager: Stage 3300 contains a task of very large size (2979 KiB). The maximum recommended task size is 1000 KiB.\n",
      "23/12/25 00:36:43 WARN TaskSetManager: Stage 3303 contains a task of very large size (2979 KiB). The maximum recommended task size is 1000 KiB.\n",
      "23/12/25 00:36:43 WARN TaskSetManager: Stage 3304 contains a task of very large size (2979 KiB). The maximum recommended task size is 1000 KiB.\n",
      "23/12/25 00:36:43 WARN TaskSetManager: Stage 3305 contains a task of very large size (2979 KiB). The maximum recommended task size is 1000 KiB.\n",
      "23/12/25 00:36:44 WARN TaskSetManager: Stage 3308 contains a task of very large size (2979 KiB). The maximum recommended task size is 1000 KiB.\n",
      "23/12/25 00:36:44 WARN TaskSetManager: Stage 3309 contains a task of very large size (2979 KiB). The maximum recommended task size is 1000 KiB.\n",
      "23/12/25 00:36:45 WARN TaskSetManager: Stage 3310 contains a task of very large size (2979 KiB). The maximum recommended task size is 1000 KiB.\n"
     ]
    },
    {
     "name": "stdout",
     "output_type": "stream",
     "text": [
      "Forecast Bias: 0.020231941210291305\n",
      "R-squared (R2): 0.9830165123597727\n",
      "Mean Absolute Scaled Error (MASE): 0.01722592138559277\n",
      "Root Mean Squared Error (RMSE): 0.8194164170022697\n",
      "Mean Squared Error (MSE): 0.6714432644528376\n",
      "Mean Absolute Error (MAE): 0.3790744300501183\n"
     ]
    }
   ],
   "source": [
    "models_performance.append(['DecisionTreeR_model']+evaluate_model(DecisionTreeR_model,testData))"
   ]
  },
  {
   "cell_type": "markdown",
   "id": "aca473a5",
   "metadata": {},
   "source": [
    ">>> ### e) - analyse la cohérence entre la température prévue et la température réelle"
   ]
  },
  {
   "cell_type": "code",
   "execution_count": 261,
   "id": "4d0429a1",
   "metadata": {
    "execution": {
     "iopub.execute_input": "2023-12-25T00:37:06.182977Z",
     "iopub.status.busy": "2023-12-25T00:37:06.182046Z",
     "iopub.status.idle": "2023-12-25T00:37:07.224062Z",
     "shell.execute_reply": "2023-12-25T00:37:07.223049Z",
     "shell.execute_reply.started": "2023-12-25T00:37:06.182942Z"
    }
   },
   "outputs": [
    {
     "name": "stderr",
     "output_type": "stream",
     "text": [
      "23/12/25 00:37:06 WARN TaskSetManager: Stage 3311 contains a task of very large size (2979 KiB). The maximum recommended task size is 1000 KiB.\n",
      "23/12/25 00:37:06 WARN TaskSetManager: Stage 3312 contains a task of very large size (2979 KiB). The maximum recommended task size is 1000 KiB.\n"
     ]
    },
    {
     "data": {
      "image/png": "[encoded data removed]",
      "text/plain": [
       "<Figure size 640x480 with 1 Axes>"
      ]
     },
     "metadata": {},
     "output_type": "display_data"
    }
   ],
   "source": [
    "display_model_performance(DecisionTreeR_model, testData)"
   ]
  },
  {
   "cell_type": "markdown",
   "id": "9110fc40",
   "metadata": {},
   "source": [
    ">>> ### c) Analyse de l'importance des variables explicatives pour la prédiction"
   ]
  },
  {
   "cell_type": "code",
   "execution_count": 262,
   "id": "c66ec6c4",
   "metadata": {
    "execution": {
     "iopub.execute_input": "2023-12-25T00:37:44.019976Z",
     "iopub.status.busy": "2023-12-25T00:37:44.019205Z",
     "iopub.status.idle": "2023-12-25T00:37:44.298425Z",
     "shell.execute_reply": "2023-12-25T00:37:44.297499Z",
     "shell.execute_reply.started": "2023-12-25T00:37:44.019946Z"
    }
   },
   "outputs": [
    {
     "data": {
      "image/png": "[encoded data removed]",
      "text/plain": [
       "<Figure size 640x480 with 1 Axes>"
      ]
     },
     "metadata": {},
     "output_type": "display_data"
    }
   ],
   "source": [
    "# Extract feature importances from the trained Decision Tree model\n",
    "feature_importances_dt = DecisionTreeR_model.stages[-1].featureImportances\n",
    "feature_importance_dt_df = pd.DataFrame({\n",
    "    'Feature': assembler.getInputCols(),\n",
    "    'Importance': feature_importances_dt.toArray()\n",
    "})\n",
    "feature_importance_dt_df = feature_importance_dt_df.sort_values(by='Importance', ascending=False)\n",
    "importance = list(feature_importance_dt_df.Importance )[1:]\n",
    "Feature = list(feature_importance_dt_df.Feature )[1:]\n",
    "\n",
    "plt.bar(Feature, importance, color='blue')\n",
    "plt.xlabel('Features')\n",
    "plt.ylabel('Importance')\n",
    "plt.title('Feature Importance Bar Diagram')\n",
    "plt.xticks(rotation=45, ha='right')\n",
    "plt.show()"
   ]
  },
  {
   "cell_type": "code",
   "execution_count": 263,
   "id": "0def4142",
   "metadata": {
    "execution": {
     "iopub.execute_input": "2023-12-25T00:38:43.037522Z",
     "iopub.status.busy": "2023-12-25T00:38:43.036785Z",
     "iopub.status.idle": "2023-12-25T00:38:43.050803Z",
     "shell.execute_reply": "2023-12-25T00:38:43.049922Z",
     "shell.execute_reply.started": "2023-12-25T00:38:43.037489Z"
    }
   },
   "outputs": [
    {
     "data": {
      "text/html": [
       "<div>\n",
       "<style scoped>\n",
       "    .dataframe tbody tr th:only-of-type {\n",
       "        vertical-align: middle;\n",
       "    }\n",
       "\n",
       "    .dataframe tbody tr th {\n",
       "        vertical-align: top;\n",
       "    }\n",
       "\n",
       "    .dataframe thead th {\n",
       "        text-align: right;\n",
       "    }\n",
       "</style>\n",
       "<table border=\"1\" class=\"dataframe\">\n",
       "  <thead>\n",
       "    <tr style=\"text-align: right;\">\n",
       "      <th></th>\n",
       "      <th>model</th>\n",
       "      <th>Forecast Bias</th>\n",
       "      <th>R-squared (R2)</th>\n",
       "      <th>Mean Absolute Scaled Error (MASE)</th>\n",
       "      <th>Root Mean Squared Error (RMSE)</th>\n",
       "      <th>Mean Squared Error (MSE)</th>\n",
       "      <th>Mean Absolute Error (MAE)</th>\n",
       "    </tr>\n",
       "  </thead>\n",
       "  <tbody>\n",
       "    <tr>\n",
       "      <th>0</th>\n",
       "      <td>RandomForestRegressor</td>\n",
       "      <td>0.147570</td>\n",
       "      <td>0.981834</td>\n",
       "      <td>0.017310</td>\n",
       "      <td>0.847466</td>\n",
       "      <td>0.718199</td>\n",
       "      <td>0.380933</td>\n",
       "    </tr>\n",
       "    <tr>\n",
       "      <th>1</th>\n",
       "      <td>GBTRegressor_model</td>\n",
       "      <td>0.068707</td>\n",
       "      <td>0.977080</td>\n",
       "      <td>0.016929</td>\n",
       "      <td>0.951919</td>\n",
       "      <td>0.906150</td>\n",
       "      <td>0.372531</td>\n",
       "    </tr>\n",
       "    <tr>\n",
       "      <th>2</th>\n",
       "      <td>DecisionTreeR_model</td>\n",
       "      <td>0.020232</td>\n",
       "      <td>0.983017</td>\n",
       "      <td>0.017226</td>\n",
       "      <td>0.819416</td>\n",
       "      <td>0.671443</td>\n",
       "      <td>0.379074</td>\n",
       "    </tr>\n",
       "  </tbody>\n",
       "</table>\n",
       "</div>"
      ],
      "text/plain": [
       "                   model  Forecast Bias  R-squared (R2)  \\\n",
       "0  RandomForestRegressor       0.147570        0.981834   \n",
       "1     GBTRegressor_model       0.068707        0.977080   \n",
       "2    DecisionTreeR_model       0.020232        0.983017   \n",
       "\n",
       "   Mean Absolute Scaled Error (MASE)  Root Mean Squared Error (RMSE)  \\\n",
       "0                           0.017310                        0.847466   \n",
       "1                           0.016929                        0.951919   \n",
       "2                           0.017226                        0.819416   \n",
       "\n",
       "   Mean Squared Error (MSE)  Mean Absolute Error (MAE)  \n",
       "0                  0.718199                   0.380933  \n",
       "1                  0.906150                   0.372531  \n",
       "2                  0.671443                   0.379074  "
      ]
     },
     "execution_count": 263,
     "metadata": {},
     "output_type": "execute_result"
    }
   ],
   "source": [
    "cols = [ 'model' ,'Forecast Bias' , 'R-squared (R2)' , 'Mean Absolute Scaled Error (MASE)' , 'Root Mean Squared Error (RMSE)','Mean Squared Error (MSE)' , 'Mean Absolute Error (MAE)']\n",
    "pd.DataFrame(models_performance , columns = cols )"
   ]
  },
  {
   "cell_type": "code",
   "execution_count": null,
   "id": "65d04d33",
   "metadata": {},
   "outputs": [],
   "source": []
  },
  {
   "cell_type": "code",
   "execution_count": null,
   "id": "5650abe6",
   "metadata": {},
   "outputs": [],
   "source": []
  },
  {
   "cell_type": "code",
   "execution_count": null,
   "id": "cbed9b10",
   "metadata": {},
   "outputs": [],
   "source": []
  },
  {
   "cell_type": "code",
   "execution_count": null,
   "id": "789a331e",
   "metadata": {},
   "outputs": [],
   "source": []
  },
  {
   "cell_type": "code",
   "execution_count": null,
   "id": "6468b7cf",
   "metadata": {},
   "outputs": [],
   "source": []
  }
 ],
 "metadata": {
  "kaggle": {
   "accelerator": "gpu",
   "dataSources": [],
   "dockerImageVersionId": 30627,
   "isGpuEnabled": true,
   "isInternetEnabled": true,
   "language": "python",
   "sourceType": "notebook"
  },
  "kernelspec": {
   "display_name": "Python 3 (ipykernel)",
   "language": "python",
   "name": "python3"
  },
  "language_info": {
   "codemirror_mode": {
    "name": "ipython",
    "version": 3
   },
   "file_extension": ".py",
   "mimetype": "text/x-python",
   "name": "python",
   "nbconvert_exporter": "python",
   "pygments_lexer": "ipython3",
   "version": "3.10.6"
  }
 },
 "nbformat": 4,
 "nbformat_minor": 5
}
